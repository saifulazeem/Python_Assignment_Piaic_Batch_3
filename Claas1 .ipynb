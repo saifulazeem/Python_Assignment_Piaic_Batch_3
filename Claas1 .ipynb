{
 "cells": [
  {
   "cell_type": "markdown",
   "metadata": {},
   "source": [
    "# First Python Class"
   ]
  },
  {
   "cell_type": "markdown",
   "metadata": {},
   "source": [
    "# PIAIC Islamabad Batch 3\n",
    "## Quter !"
   ]
  },
  {
   "cell_type": "code",
   "execution_count": 2,
   "metadata": {},
   "outputs": [
    {
     "name": "stdout",
     "output_type": "stream",
     "text": [
      "saif\n",
      "PIAIC\n"
     ]
    }
   ],
   "source": [
    "print(\"saif\")\n",
    "print(\"PIAIC\")"
   ]
  },
  {
   "cell_type": "raw",
   "metadata": {},
   "source": [
    "function sum (a,b)\n",
    "{\n",
    "    return a+b;\n",
    "}"
   ]
  },
  {
   "cell_type": "code",
   "execution_count": 3,
   "metadata": {},
   "outputs": [
    {
     "name": "stdout",
     "output_type": "stream",
     "text": [
      "saijmdjm djkfn 12\n"
     ]
    }
   ],
   "source": [
    "a='saijmdjm'\n",
    "b='djkfn'\n",
    "nn=12\n",
    "print(a,b,nn)"
   ]
  },
  {
   "cell_type": "code",
   "execution_count": 7,
   "metadata": {},
   "outputs": [
    {
     "name": "stdout",
     "output_type": "stream",
     "text": [
      "Enter your Time330 to 630\n",
      "Enter NameMuhammad Saif\n",
      "Entre Father NmaeM Azim\n",
      "Enter UniversityNUMLS\n",
      "\n",
      "PIAIC ISLAMABAD BATCH3\n",
      "TIMING: 330 to 630\n",
      "NAME: Muhammad Saif\n",
      "Father's Nmae: M Azim\n",
      "University: NUMLS\n",
      "\n"
     ]
    }
   ],
   "source": [
    "timeings=input(\"Enter your Time\")\n",
    "name=input(\"Enter Name\")\n",
    "f_nmae=input(\"Entre Father Nmae\")\n",
    "uni=input(\"Enter University\")\n",
    "message=\"\"\"\n",
    "PIAIC ISLAMABAD BATCH3\n",
    "TIMING: {}\n",
    "NAME: {}\n",
    "Father's Nmae: {}\n",
    "University: {}\n",
    "\"\"\"\n",
    "message=message.format(timeings,name,f_nmae,uni)\n",
    "\n",
    "\n",
    "print(message)"
   ]
  },
  {
   "cell_type": "code",
   "execution_count": 1,
   "metadata": {},
   "outputs": [],
   "source": [
    "\n",
    "msg=\"\"\"NUML\n",
    "Fall 2019\n",
    "Nmae: {}\n",
    "Father's Name:{}\n",
    "phy:{}\n",
    "Che:{}\n",
    "mat:{}\n",
    "eng:{}\n",
    "Urdu:{}\n",
    "Total:{}\n",
    "Percentage:{}\n",
    "\"\"\""
   ]
  },
  {
   "cell_type": "code",
   "execution_count": null,
   "metadata": {},
   "outputs": [],
   "source": [
    "\n",
    "\n",
    "class Calculator:\n",
    "    def addition(num1,num2):\n",
    "        ans=num1+num2\n",
    "        print(\"Result = \"+ans)\n",
    "    def subtract(num1,num2):\n",
    "        ans=num1-num2\n",
    "        print(\"Result = \"+ans)\n",
    "    def multiply(num1,num2):\n",
    "        ans=num1*num2\n",
    "        print(\"Result = \"+ans)\n",
    "    def division(num1,num2):\n",
    "        ans=num1/num2\n",
    "        print(\"Result = \"+ans)\n",
    "\n",
    "Calculator.addition=classmethod(Calculator.addition)\n",
    "Calculator.subtract=classmethod(Calculator.subtract)\n",
    "Calculator.multiply=classmethod(Calculator.multiply)\n",
    "Calculator.dividion=classmethod(Calculator.division)\n",
    "\n",
    "description=\"\"\"\n",
    "For Addition Press 1\n",
    "For Subtraction Press 2\n",
    "For Multiplication Press 3\n",
    "For Division Press 4\n",
    "\"\"\"\n",
    "print(description)\n",
    "choice=int(input(\"Enter you Choice\"))\n",
    "if choice==1:\n",
    "    num1=int(input(\"Enter First Number\"))\n",
    "    num2=int(input(\"Enter Second Number\"))\n",
    "    Calculator.addition()\n",
    "elif choice==2:\n",
    "    num1=int(input(\"Enter First Number\"))\n",
    "    num2=int(input(\"Enter Second Number\"))\n",
    "    Calculator.subtract()\n",
    "elif choice==3:\n",
    "    num1=int(input(\"Enter First Number\"))\n",
    "    num2=int(input(\"Enter Second Number\"))\n",
    "    Calculator.multiply()\n",
    "elif choice==4:\n",
    "    num1=int(input(\"Enter First Number\"))\n",
    "    num2=int(input(\"Enter Second Number\"))\n",
    "    Calculator.divide()\n",
    "else :\n",
    "    \n",
    "    print(\"Enter Interger Number between 0 to 4\")\n",
    "    \n",
    "    \n",
    "\n",
    "\n",
    "\n",
    "\n",
    "    \n",
    "        "
   ]
  }
 ],
 "metadata": {
  "kernelspec": {
   "display_name": "Python 3",
   "language": "python",
   "name": "python3"
  },
  "language_info": {
   "codemirror_mode": {
    "name": "ipython",
    "version": 3
   },
   "file_extension": ".py",
   "mimetype": "text/x-python",
   "name": "python",
   "nbconvert_exporter": "python",
   "pygments_lexer": "ipython3",
   "version": "3.7.1"
  }
 },
 "nbformat": 4,
 "nbformat_minor": 2
}
