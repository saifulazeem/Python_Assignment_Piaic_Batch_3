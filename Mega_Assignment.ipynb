{
 "cells": [
  {
   "cell_type": "markdown",
   "metadata": {},
   "source": [
    "# Mega Assignment"
   ]
  },
  {
   "cell_type": "raw",
   "metadata": {},
   "source": [
    "1. Which of the following terms are related to dictionaries?\n",
    "\n",
    "a) value\n",
    "b) item\n",
    "c) index\n",
    "d) Key\n",
    "\n",
    "Answer: d) Key"
   ]
  },
  {
   "cell_type": "raw",
   "metadata": {},
   "source": [
    "2. Just like lists, + operator is used to extend dictionaries?\n",
    "a) True\n",
    "b) False\n",
    "\n",
    "Answer: b) False\n"
   ]
  },
  {
   "cell_type": "raw",
   "metadata": {},
   "source": [
    "3. To access items from a dictionary, we specify the index of that item within [] like myDict[0]?\n",
    "a. True\n",
    "b. False\n",
    "\n",
    "Answer: a) True"
   ]
  },
  {
   "cell_type": "raw",
   "metadata": {},
   "source": [
    "4. When we use [] to access the value from a dictionary which does not exist in that dictionary….?\n",
    "a. Value within [] is added to the dictionary\n",
    "b. Value None is returned\n",
    "c. New dictionary is created\n",
    "d. None of above\n",
    "\n",
    "Answer: d) None of above "
   ]
  },
  {
   "cell_type": "raw",
   "metadata": {},
   "source": [
    "5. What does return the pop method of a dictionary?\n",
    "a. list\n",
    "b. tuple containing the pair of last item of the dictionary\n",
    "c. dictionary\n",
    "d. value of the key, if it exists in the dictionary\n",
    "\n",
    "Answer: d) value of the key, if it exists in the dictionary"
   ]
  },
  {
   "cell_type": "raw",
   "metadata": {},
   "source": [
    "6. What does return popitem method return?\n",
    "a. dictionary\n",
    "b. tupple containing the pair of last item of the dictionary\n",
    "c. list\n",
    "d. value of key, if it exists in the dictionary\n",
    "\n",
    "Answer: b. tupple containing the pair of last item of the dictionary"
   ]
  },
  {
   "cell_type": "raw",
   "metadata": {},
   "source": [
    "7. Which of the following 2 methods can be used to iterate through the items of a dictionary?\n",
    "a. items()\n",
    "b. values()\n",
    "c. indexes()\n",
    "d. keys()\n",
    "\n",
    "Answer: a. items(), d. keys()"
   ]
  },
  {
   "cell_type": "raw",
   "metadata": {},
   "source": [
    "8. Which one of the following is used to enclose a dictionary?\n",
    "a. () parenthesis\n",
    "b. {} curly brackets\n",
    "c. [] square brackets\n",
    "d. “” quotation marks\n",
    "\n",
    "Answer: b. {} curly brackets"
   ]
  },
  {
   "cell_type": "code",
   "execution_count": 7,
   "metadata": {},
   "outputs": [
    {
     "ename": "SyntaxError",
     "evalue": "invalid syntax (<ipython-input-7-d591348906a3>, line 15)",
     "output_type": "error",
     "traceback": [
      "\u001b[1;36m  File \u001b[1;32m\"<ipython-input-7-d591348906a3>\"\u001b[1;36m, line \u001b[1;32m15\u001b[0m\n\u001b[1;33m    if\u001b[0m\n\u001b[1;37m      ^\u001b[0m\n\u001b[1;31mSyntaxError\u001b[0m\u001b[1;31m:\u001b[0m invalid syntax\n"
     ]
    }
   ],
   "source": [
    "#9. Write Python Program add key-value pair in dictionary and check if a Given Key or Value or Both\n",
    "#Exists in a Dictionary or Not.\n",
    "\n",
    "my_dict={\n",
    "    \n",
    "    'key1':\"ALI\",\n",
    "    'key2':\"Saif\"\n",
    "    \n",
    "}\n",
    "\n",
    "my_dict['key3']=\"Saif\"\n",
    "\n",
    "if my_dict['key3']==my_dict['key1'] or my_dict['key3']==my_dict['key2']:\n",
    "    print(\"Value already Exist\")\n",
    "\n",
    "\n",
    "#I searh this on https://stackoverflow.com/questions/1024847/add-new-keys-to-a-dictionary but did not understand\n"
   ]
  },
  {
   "cell_type": "code",
   "execution_count": 8,
   "metadata": {},
   "outputs": [
    {
     "name": "stdout",
     "output_type": "stream",
     "text": [
      "String\n",
      "Write a Python Program to Count the Frequency of Words Appearing in a String Using a Dictionary and print only the words having Even\n",
      "\n",
      "List\n",
      "['Write', 'a', 'Python', 'Program', 'to', 'Count', 'the', 'Frequency', 'of', 'Words', 'Appearing', 'in', 'a', 'String', 'Using', 'a', 'Dictionary', 'and', 'print', 'only', 'the', 'words', 'having', 'Even']\n",
      "\n",
      "Frequencies\n",
      "[1, 3, 1, 1, 1, 1, 2, 1, 1, 1, 1, 1, 3, 1, 1, 3, 1, 1, 1, 1, 2, 1, 1, 1]\n",
      "\n"
     ]
    }
   ],
   "source": [
    "#10. Write a Python Program to Count the Frequency of Words Appearing in a String Using a\n",
    "#Dictionary and print only the words having Even (divisible by 2) frequency\n",
    "\n",
    "wordstring = 'Write a Python Program to Count the Frequency of Words Appearing in a String Using a Dictionary and print only the words having Even'\n",
    "\n",
    "wordlist = wordstring.split()\n",
    "\n",
    "wordfreq = []\n",
    "for t in wordlist:\n",
    "    wordfreq.append(wordlist.count(t))\n",
    "\n",
    "print(\"String\\n\" + wordstring +\"\\n\")\n",
    "print(\"List\\n\" + str(wordlist) + \"\\n\")\n",
    "print(\"Frequencies\\n\" + str(wordfreq) + \"\\n\")"
   ]
  },
  {
   "cell_type": "code",
   "execution_count": 9,
   "metadata": {},
   "outputs": [
    {
     "ename": "NameError",
     "evalue": "name 'Apr' is not defined",
     "output_type": "error",
     "traceback": [
      "\u001b[1;31m---------------------------------------------------------------------------\u001b[0m",
      "\u001b[1;31mNameError\u001b[0m                                 Traceback (most recent call last)",
      "\u001b[1;32m<ipython-input-9-e6a72726a511>\u001b[0m in \u001b[0;36m<module>\u001b[1;34m\u001b[0m\n\u001b[0;32m      1\u001b[0m \u001b[1;31m#11. X = [\"Feb\", Apr, Mar, May, Jun, Jul, Aug, Jan]. What will be output of following?\u001b[0m\u001b[1;33m\u001b[0m\u001b[1;33m\u001b[0m\u001b[1;33m\u001b[0m\u001b[0m\n\u001b[0;32m      2\u001b[0m \u001b[1;33m\u001b[0m\u001b[0m\n\u001b[1;32m----> 3\u001b[1;33m \u001b[0mX\u001b[0m \u001b[1;33m=\u001b[0m \u001b[1;33m[\u001b[0m\u001b[1;34m\"Feb\"\u001b[0m\u001b[1;33m,\u001b[0m \u001b[0mApr\u001b[0m\u001b[1;33m,\u001b[0m \u001b[0mMar\u001b[0m\u001b[1;33m,\u001b[0m \u001b[0mMay\u001b[0m\u001b[1;33m,\u001b[0m \u001b[0mJun\u001b[0m\u001b[1;33m,\u001b[0m \u001b[0mJul\u001b[0m\u001b[1;33m,\u001b[0m \u001b[0mAug\u001b[0m\u001b[1;33m,\u001b[0m \u001b[0mJan\u001b[0m\u001b[1;33m]\u001b[0m\u001b[1;33m\u001b[0m\u001b[1;33m\u001b[0m\u001b[0m\n\u001b[0m\u001b[0;32m      4\u001b[0m \u001b[0mX\u001b[0m\u001b[1;33m[\u001b[0m\u001b[1;36m0\u001b[0m\u001b[1;33m:\u001b[0m\u001b[1;36m3\u001b[0m\u001b[1;33m]\u001b[0m\u001b[1;33m\u001b[0m\u001b[1;33m\u001b[0m\u001b[0m\n\u001b[0;32m      5\u001b[0m \u001b[0mX\u001b[0m\u001b[1;33m[\u001b[0m\u001b[1;36m2\u001b[0m\u001b[1;33m:\u001b[0m\u001b[1;36m8\u001b[0m\u001b[1;33m]\u001b[0m\u001b[1;33m\u001b[0m\u001b[1;33m\u001b[0m\u001b[0m\n",
      "\u001b[1;31mNameError\u001b[0m: name 'Apr' is not defined"
     ]
    }
   ],
   "source": [
    "#11. X = [\"Feb\", Apr, Mar, May, Jun, Jul, Aug, Jan]. What will be output of following?\n",
    "\n",
    "X = [\"Feb\", Apr, Mar, May, Jun, Jul, Aug, Jan]\n",
    "X[0:3]\n",
    "X[2:8]\n",
    "X[4:9]\n",
    "X[1:7:2]\n",
    "X[-1:-7]\n",
    "X[-7:7]\n",
    "X[-1:-8:-2]\n",
    "X[:4]\n",
    "\n",
    "#Answer output to the above program is error because we have only one string \"Feb\" in list X and the other months are not \n",
    "# defined and the are not string they are acting as Variables that are not defined and initialized yet."
   ]
  },
  {
   "cell_type": "code",
   "execution_count": 11,
   "metadata": {},
   "outputs": [
    {
     "name": "stdout",
     "output_type": "stream",
     "text": [
      "['Feb', 'Apr', 'Mar']\n",
      "['Mar', 'May', 'Jun', 'Jul', 'Aug', 'Jan']\n",
      "['Jun', 'Jul', 'Aug', 'Jan']\n",
      "['Apr', 'May', 'Jul']\n",
      "[]\n",
      "['Apr', 'Mar', 'May', 'Jun', 'Jul', 'Aug']\n",
      "['Jan', 'Jul', 'May', 'Apr']\n",
      "['Feb', 'Apr', 'Mar', 'May']\n"
     ]
    }
   ],
   "source": [
    "#Solution to Question 11 is \n",
    "X = [\"Feb\", \"Apr\", \"Mar\", \"May\", \"Jun\", \"Jul\", \"Aug\", \"Jan\"]\n",
    "print(X[0:3])\n",
    "print(X[2:8])\n",
    "print(X[4:9])\n",
    "print(X[1:7:2])\n",
    "print(X[-1:-7])\n",
    "print(X[-7:7])\n",
    "print(X[-1:-8:-2])\n",
    "print(X[:4])"
   ]
  },
  {
   "cell_type": "code",
   "execution_count": 15,
   "metadata": {},
   "outputs": [
    {
     "name": "stdout",
     "output_type": "stream",
     "text": [
      "[2, 8, 4, 5]\n"
     ]
    }
   ],
   "source": [
    "#12. Remove the correct number from the list X\n",
    "#X = [ 9,2,8,4,5]\n",
    "#X__?__\n",
    "#print (X)\n",
    "#Output: [2,8,4,5]\n",
    "#1) .delete(9)\n",
    "#2) .rm(9)\n",
    "#3) .remove(9)\n",
    "\n",
    "X = [ 9,2,8,4,5]\n",
    "\n",
    "X.remove(9)\n",
    "\n",
    "print (X)\n",
    "\n"
   ]
  },
  {
   "cell_type": "code",
   "execution_count": 17,
   "metadata": {},
   "outputs": [
    {
     "name": "stdout",
     "output_type": "stream",
     "text": [
      "hello! hello! hello! \n"
     ]
    }
   ],
   "source": [
    "#13. p = 3\n",
    "# q = 'hello! '\n",
    "# print( q __?__ p)\n",
    "# hello! hello! hello!\n",
    "# 1) *\n",
    "# 2) **\n",
    "# 3) +\n",
    "\n",
    "#Answer 1) *\n",
    "\n",
    "\n",
    "p = 3\n",
    "q = 'hello! '\n",
    "print( q*p)\n"
   ]
  },
  {
   "cell_type": "code",
   "execution_count": 21,
   "metadata": {},
   "outputs": [
    {
     "name": "stdout",
     "output_type": "stream",
     "text": [
      "THIS IS A RANDOM SENTENCE\n"
     ]
    }
   ],
   "source": [
    "#14. y = \"this is a random sentence\"\n",
    "#print (y__?__)\n",
    "#Output: THIS IS A RANDOM SENTENCE\n",
    "#1) .upper()\n",
    "#2) .upcase()\n",
    "#3) .capitalize()\n",
    "\n",
    "#Answer: 1) upper()\n",
    "\n",
    "\n",
    "y = 'this is a random sentence'\n",
    "\n",
    "y = y.upper()\n",
    "\n",
    "print(y)\n"
   ]
  },
  {
   "cell_type": "code",
   "execution_count": 24,
   "metadata": {},
   "outputs": [
    {
     "name": "stdout",
     "output_type": "stream",
     "text": [
      "<class 'bool'>\n",
      "<class 'str'>\n",
      "<class 'int'>\n",
      "<class 'float'>\n"
     ]
    }
   ],
   "source": [
    "#Question 15\n",
    "p = True\n",
    "q = 'True'\n",
    "r = 2\n",
    "#r = 2.0\n",
    "s=2.0\n",
    "print(type(p))\n",
    "print(type(q))\n",
    "print(type(r))\n",
    "print(type(s))"
   ]
  },
  {
   "cell_type": "raw",
   "metadata": {},
   "source": [
    "\n",
    "16. What are the optional arguments to the function?\n",
    "function_1(R1, q, p=None, R2= None)\n",
    "1) q and R2\n",
    "2) p and R2\n",
    "3) p and R1\n",
    "4) R1 and q\n",
    "\n",
    "Answer: 2) p and R2"
   ]
  },
  {
   "cell_type": "raw",
   "metadata": {},
   "source": [
    "17. Which command invokes method X() of the object p?\n",
    "1) X(p)\n",
    "2) p$x()\n",
    "3) X().p\n",
    "4) p.x()\n",
    "\n",
    "Answer: 1) X(p)"
   ]
  },
  {
   "cell_type": "code",
   "execution_count": 27,
   "metadata": {},
   "outputs": [
    {
     "name": "stdout",
     "output_type": "stream",
     "text": [
      "0\n",
      "2.0\n",
      "2\n",
      "2\n"
     ]
    }
   ],
   "source": [
    "#18.\n",
    "X=4\n",
    "Y= 2\n",
    "print(X % Y)\n",
    "print(X / Y)\n",
    "print(X // Y)\n",
    "print(Y % X)\n"
   ]
  },
  {
   "cell_type": "code",
   "execution_count": 41,
   "metadata": {},
   "outputs": [
    {
     "name": "stdout",
     "output_type": "stream",
     "text": [
      "4\n",
      "1\n",
      "1\n",
      "5\n",
      "9\n",
      "0\n"
     ]
    }
   ],
   "source": [
    "#19. x = [[4, 1, 1], [5, 9, 0]]\n",
    "#for i in __?__:\n",
    "# for j in __?__:\n",
    "# ?\n",
    "#Output: \n",
    "#4\n",
    "#1\n",
    "#1\n",
    "#5\n",
    "#9\n",
    "#0 \n",
    "#Answer:\n",
    "x = [[4, 1, 1], [5, 9, 0]]\n",
    "for i in range(0,2):\n",
    "    for j in range(0,3):\n",
    "        print(x[i][j])\n",
    "    \n"
   ]
  },
  {
   "cell_type": "code",
   "execution_count": 51,
   "metadata": {},
   "outputs": [
    {
     "name": "stdout",
     "output_type": "stream",
     "text": [
      "4 5\n",
      "1 9\n",
      "1 0\n"
     ]
    }
   ],
   "source": [
    "#x = [[4, 1, 1], [5, 9, 0]]\n",
    "#for i in __?__:\n",
    "# for j in __?__:\n",
    "# ?\n",
    "#Output:\n",
    "#4 5\n",
    "#1 9\n",
    "#1 0\n",
    "\n",
    "#Answer:\n",
    "\n",
    "x = [[4, 1, 1], [5, 9, 0]]\n",
    "for i in range(0,1):\n",
    "    for j in range(0,3):\n",
    "        print(x[0][j],x[1][j])\n"
   ]
  },
  {
   "cell_type": "code",
   "execution_count": 74,
   "metadata": {},
   "outputs": [
    {
     "name": "stdout",
     "output_type": "stream",
     "text": [
      "[4, 1, 1, 5, 9, 0]\n"
     ]
    }
   ],
   "source": [
    "#x = [[4, 1, 1], [5, 9, 0]]\n",
    "#for i in __?__:\n",
    "# for j in __?__:\n",
    " #?\n",
    "#Output: 4 1 1 5 9 0\n",
    "\n",
    "x = [[4, 1, 1], [5, 9, 0]]\n",
    "for i in range(0,1):\n",
    "    for j in range(0,1):\n",
    "        print(x[0]+x[1])\n"
   ]
  },
  {
   "cell_type": "code",
   "execution_count": 77,
   "metadata": {},
   "outputs": [
    {
     "name": "stdout",
     "output_type": "stream",
     "text": [
      "Item 0 -  10.62\n",
      "Item 1 -  16.14\n",
      "Item 2 -  6.45\n",
      "Item 3 -  17.11\n"
     ]
    }
   ],
   "source": [
    "#20. q = [10.62, 16.14, 6.45, 17.11]\n",
    "#for __?__, z in enumerate (q) :\n",
    "# print( ‘Item ‘ + str( j ) + ‘ - ‘, str ( z ))\n",
    "#Output: Item 0 – 10.62\n",
    "#Item 1 – 16.14\n",
    "#Item 2 – 6.45\n",
    "#Item 3 – 17.11\n",
    "#1) z\n",
    "#2) i\n",
    "#3) j\n",
    "#4) x\n",
    "#5) k\n",
    "#6) y\n",
    "\n",
    "#Answer: 2) j .\n",
    "\n",
    "q = [10.62, 16.14, 6.45, 17.11]\n",
    "for j, z in enumerate (q) :\n",
    "    print( 'Item ' + str( j ) + ' - ', str ( z ))\n",
    "\n"
   ]
  },
  {
   "cell_type": "raw",
   "metadata": {},
   "source": [
    "#21. Which of these about a dictionary is false?\n",
    "#a) The values of a dictionary can be accessed using keys\n",
    "#b) The keys of a dictionary can be accessed using values\n",
    "#c) Dictionaries aren’t ordered\n",
    "#d) Dictionaries are mutable\n",
    "\n",
    "Answer : b) The keys of a dictionary can be accessed using values"
   ]
  },
  {
   "cell_type": "code",
   "execution_count": 2,
   "metadata": {},
   "outputs": [
    {
     "name": "stdout",
     "output_type": "stream",
     "text": [
      "{0: 0}\n",
      "{0: 1}\n",
      "{0: 1, 1: 0}\n",
      "{0: 1, 1: 1}\n",
      "{0: 1, 1: 1, 2: 0}\n",
      "{0: 1, 1: 1, 2: 1}\n"
     ]
    }
   ],
   "source": [
    "#22. What is the output of the following:\n",
    "#D = dict()\n",
    "#for i in range (3):\n",
    "# for j in range(2):\n",
    "# D[i] = j\n",
    "#a. {0: 1, 1: 1, 2: 1}\n",
    "#b. {1: 0, 1: 1, 1: 2}\n",
    "#c. {0: 1, 1: 2, 2: 3}\n",
    "#d. {1: 2, 1: 1, 1: 0}\n",
    "\n",
    "D = dict()\n",
    "for i in range (3):\n",
    "    for j in range(2):\n",
    "        D[i] = j\n",
    "        print(D)\n",
    "        \n",
    "#Answer : a. {0: 1, 1: 1, 2: 1}\n",
    "\n",
    "\n"
   ]
  },
  {
   "cell_type": "raw",
   "metadata": {},
   "source": [
    "23. You are writing a function that increments player score in a soccer game\n",
    "If no value is specified for points, then point must start with 1\n",
    "If no value is specified for bonus, then bonus should be True\n",
    "01 def increment_score ( bonus , score , points ):\n",
    "To meet the first requirement line 01 must be change to\n",
    " def increment_score ( bonus , score , points = 1 ): (True or False)\n",
    "\n",
    "Answer: True\n",
    "  \n",
    "To meet the second requirement line 01 must be change to\n",
    " def increment_score ( bonus = True , score , points = 1 ): (True or False)\n",
    "\n",
    "Answer: True\n",
    "\n",
    " Once a parameter is defined with default value, any parameter to the right must also be defined\n",
    "with default values (True or False)\n",
    "\n",
    "Answer: False"
   ]
  },
  {
   "cell_type": "code",
   "execution_count": 3,
   "metadata": {},
   "outputs": [
    {
     "name": "stdout",
     "output_type": "stream",
     "text": [
      "11.333333333333334\n"
     ]
    }
   ],
   "source": [
    "#24. What will be output?\n",
    "#def avg ( x , y , z = 50 ):\n",
    "#adding = x + y + z\n",
    "#avg_value = adding / 3\n",
    "#return avg_value\n",
    "#y = avg ( x = 5 , y = 9 , z = 20 )\n",
    "#print(y)\n",
    "\n",
    "Answer: 11.3333\n",
    "\n",
    "\n",
    "def avg ( x , y , z = 50 ):\n",
    "    adding = x + y + z\n",
    "    avg_value = adding / 3\n",
    "    return avg_value\n",
    "y = avg ( x = 5 , y = 9 , z = 20 )\n",
    "print(y)\n",
    "\n"
   ]
  },
  {
   "cell_type": "code",
   "execution_count": 8,
   "metadata": {},
   "outputs": [
    {
     "ename": "TypeError",
     "evalue": "avg() missing 1 required keyword-only argument: 'name'",
     "output_type": "error",
     "traceback": [
      "\u001b[1;31m---------------------------------------------------------------------------\u001b[0m",
      "\u001b[1;31mTypeError\u001b[0m                                 Traceback (most recent call last)",
      "\u001b[1;32m<ipython-input-8-7b338deef2dc>\u001b[0m in \u001b[0;36m<module>\u001b[1;34m\u001b[0m\n\u001b[0;32m     10\u001b[0m     \u001b[0mavg_value\u001b[0m \u001b[1;33m=\u001b[0m \u001b[0msum\u001b[0m \u001b[1;33m(\u001b[0m\u001b[0mopt_values\u001b[0m\u001b[1;33m)\u001b[0m \u001b[1;33m/\u001b[0m \u001b[0mlen\u001b[0m\u001b[1;33m(\u001b[0m\u001b[0mopt_values\u001b[0m\u001b[1;33m)\u001b[0m\u001b[1;33m\u001b[0m\u001b[1;33m\u001b[0m\u001b[0m\n\u001b[0;32m     11\u001b[0m     \u001b[0mprint\u001b[0m\u001b[1;33m(\u001b[0m\u001b[1;34m'name is:'\u001b[0m \u001b[1;33m+\u001b[0m \u001b[0mname\u001b[0m \u001b[1;33m+\u001b[0m \u001b[1;34m'Marks: '\u001b[0m \u001b[1;33m+\u001b[0m \u001b[0mstr\u001b[0m\u001b[1;33m(\u001b[0m\u001b[0mavg_value\u001b[0m\u001b[1;33m)\u001b[0m\u001b[1;33m)\u001b[0m\u001b[1;33m\u001b[0m\u001b[1;33m\u001b[0m\u001b[0m\n\u001b[1;32m---> 12\u001b[1;33m \u001b[0mavg\u001b[0m \u001b[1;33m(\u001b[0m \u001b[1;36m5\u001b[0m \u001b[1;33m,\u001b[0m \u001b[1;36m9\u001b[0m \u001b[1;33m,\u001b[0m \u001b[1;36m20\u001b[0m\u001b[1;33m,\u001b[0m \u001b[1;36m34\u001b[0m\u001b[1;33m,\u001b[0m \u001b[1;36m87\u001b[0m\u001b[1;33m,\u001b[0m \u001b[1;36m112\u001b[0m \u001b[1;33m,\u001b[0m \u001b[1;34m'Ali'\u001b[0m \u001b[1;33m)\u001b[0m\u001b[1;33m\u001b[0m\u001b[1;33m\u001b[0m\u001b[0m\n\u001b[0m\u001b[0;32m     13\u001b[0m \u001b[1;33m\u001b[0m\u001b[0m\n\u001b[0;32m     14\u001b[0m \u001b[1;33m\u001b[0m\u001b[0m\n",
      "\u001b[1;31mTypeError\u001b[0m: avg() missing 1 required keyword-only argument: 'name'"
     ]
    }
   ],
   "source": [
    "#25. What will be output? Describe it with reason and logic behind. Do multiple experiments with\n",
    "#arguments / parameters to remove error, if occurs.\n",
    "#def avg ( *opt_values , name ):\n",
    "#avg_value = sum (opt_values) / len(opt_values)\n",
    "#print(‘name is: ’ + name + ‘Marks: ’ + str(avg_value))\n",
    "#avg ( 5 , 9 , 20, 34, 87, 112 , ‘Ali’ )\n",
    "\n",
    "\n",
    "def avg ( *opt_values , name ):\n",
    "    avg_value = sum (opt_values) / len(opt_values)\n",
    "    print('name is:' + name + 'Marks: ' + str(avg_value))\n",
    "avg ( 5 , 9 , 20, 34, 87, 112 , 'Ali' )\n",
    "\n",
    "\n",
    "#Reason: The occurs because we place *opt_values first paratmetr so its counting all arguments as first and not considering name argument.  "
   ]
  },
  {
   "cell_type": "code",
   "execution_count": 10,
   "metadata": {},
   "outputs": [
    {
     "name": "stdout",
     "output_type": "stream",
     "text": [
      "name is:Ali Marks: 44.5\n"
     ]
    }
   ],
   "source": [
    "#Now Solving Error by Defing 2nd Argument\n",
    "\n",
    "def avg ( *opt_values , name ):\n",
    "    avg_value = sum (opt_values) / len(opt_values)\n",
    "    print('name is:' + name + ' Marks: ' + str(avg_value))\n",
    "avg ( 5 , 9 , 20, 34, 87, 112 , name='Ali' )"
   ]
  },
  {
   "cell_type": "code",
   "execution_count": 11,
   "metadata": {},
   "outputs": [
    {
     "name": "stdout",
     "output_type": "stream",
     "text": [
      "The winner was Manchester\n",
      "The score was 1-0\n"
     ]
    }
   ],
   "source": [
    "#26. Final output is not required. Just take copy pencil, think and write the output of each line, write\n",
    "#down the link between parameters and arguments. Remove one or two ** from other_info and\n",
    "#observe the ouput.\n",
    "#def display_result(winner, score, **other_info):\n",
    "#print(\"The winner was \" + winner)\n",
    "#print(\"The score was \" + score)\n",
    "#display_result(winner=“Manchester\", score=\"1-0\", overtime =\"yes\", injuries=\"none\")\n",
    "\n",
    "\n",
    "def display_result(winner, score, **other_info):\n",
    "    print(\"The winner was \" + winner)\n",
    "    print(\"The score was \" + score)\n",
    "display_result(winner=\"Manchester\", score=\"1-0\", overtime =\"yes\", injuries=\"none\") \n",
    "\n"
   ]
  },
  {
   "cell_type": "code",
   "execution_count": 12,
   "metadata": {},
   "outputs": [
    {
     "ename": "TypeError",
     "evalue": "display_result() got an unexpected keyword argument 'overtime'",
     "output_type": "error",
     "traceback": [
      "\u001b[1;31m---------------------------------------------------------------------------\u001b[0m",
      "\u001b[1;31mTypeError\u001b[0m                                 Traceback (most recent call last)",
      "\u001b[1;32m<ipython-input-12-39f1c3701340>\u001b[0m in \u001b[0;36m<module>\u001b[1;34m\u001b[0m\n\u001b[0;32m      2\u001b[0m     \u001b[0mprint\u001b[0m\u001b[1;33m(\u001b[0m\u001b[1;34m\"The winner was \"\u001b[0m \u001b[1;33m+\u001b[0m \u001b[0mwinner\u001b[0m\u001b[1;33m)\u001b[0m\u001b[1;33m\u001b[0m\u001b[1;33m\u001b[0m\u001b[0m\n\u001b[0;32m      3\u001b[0m     \u001b[0mprint\u001b[0m\u001b[1;33m(\u001b[0m\u001b[1;34m\"The score was \"\u001b[0m \u001b[1;33m+\u001b[0m \u001b[0mscore\u001b[0m\u001b[1;33m)\u001b[0m\u001b[1;33m\u001b[0m\u001b[1;33m\u001b[0m\u001b[0m\n\u001b[1;32m----> 4\u001b[1;33m \u001b[0mdisplay_result\u001b[0m\u001b[1;33m(\u001b[0m\u001b[0mwinner\u001b[0m\u001b[1;33m=\u001b[0m\u001b[1;34m\"Manchester\"\u001b[0m\u001b[1;33m,\u001b[0m \u001b[0mscore\u001b[0m\u001b[1;33m=\u001b[0m\u001b[1;34m\"1-0\"\u001b[0m\u001b[1;33m,\u001b[0m \u001b[0movertime\u001b[0m \u001b[1;33m=\u001b[0m\u001b[1;34m\"yes\"\u001b[0m\u001b[1;33m,\u001b[0m \u001b[0minjuries\u001b[0m\u001b[1;33m=\u001b[0m\u001b[1;34m\"none\"\u001b[0m\u001b[1;33m)\u001b[0m\u001b[1;33m\u001b[0m\u001b[1;33m\u001b[0m\u001b[0m\n\u001b[0m",
      "\u001b[1;31mTypeError\u001b[0m: display_result() got an unexpected keyword argument 'overtime'"
     ]
    }
   ],
   "source": [
    "def display_result(winner, score, *other_info):\n",
    "    print(\"The winner was \" + winner)\n",
    "    print(\"The score was \" + score)\n",
    "display_result(winner=\"Manchester\", score=\"1-0\", overtime =\"yes\", injuries=\"none\") "
   ]
  },
  {
   "cell_type": "code",
   "execution_count": 13,
   "metadata": {},
   "outputs": [
    {
     "ename": "TypeError",
     "evalue": "display_result() got an unexpected keyword argument 'overtime'",
     "output_type": "error",
     "traceback": [
      "\u001b[1;31m---------------------------------------------------------------------------\u001b[0m",
      "\u001b[1;31mTypeError\u001b[0m                                 Traceback (most recent call last)",
      "\u001b[1;32m<ipython-input-13-b901f3fb5580>\u001b[0m in \u001b[0;36m<module>\u001b[1;34m\u001b[0m\n\u001b[0;32m      2\u001b[0m     \u001b[0mprint\u001b[0m\u001b[1;33m(\u001b[0m\u001b[1;34m\"The winner was \"\u001b[0m \u001b[1;33m+\u001b[0m \u001b[0mwinner\u001b[0m\u001b[1;33m)\u001b[0m\u001b[1;33m\u001b[0m\u001b[1;33m\u001b[0m\u001b[0m\n\u001b[0;32m      3\u001b[0m     \u001b[0mprint\u001b[0m\u001b[1;33m(\u001b[0m\u001b[1;34m\"The score was \"\u001b[0m \u001b[1;33m+\u001b[0m \u001b[0mscore\u001b[0m\u001b[1;33m)\u001b[0m\u001b[1;33m\u001b[0m\u001b[1;33m\u001b[0m\u001b[0m\n\u001b[1;32m----> 4\u001b[1;33m \u001b[0mdisplay_result\u001b[0m\u001b[1;33m(\u001b[0m\u001b[0mwinner\u001b[0m\u001b[1;33m=\u001b[0m\u001b[1;34m\"Manchester\"\u001b[0m\u001b[1;33m,\u001b[0m \u001b[0mscore\u001b[0m\u001b[1;33m=\u001b[0m\u001b[1;34m\"1-0\"\u001b[0m\u001b[1;33m,\u001b[0m \u001b[0movertime\u001b[0m \u001b[1;33m=\u001b[0m\u001b[1;34m\"yes\"\u001b[0m\u001b[1;33m,\u001b[0m \u001b[0minjuries\u001b[0m\u001b[1;33m=\u001b[0m\u001b[1;34m\"none\"\u001b[0m\u001b[1;33m)\u001b[0m\u001b[1;33m\u001b[0m\u001b[1;33m\u001b[0m\u001b[0m\n\u001b[0m",
      "\u001b[1;31mTypeError\u001b[0m: display_result() got an unexpected keyword argument 'overtime'"
     ]
    }
   ],
   "source": [
    "def display_result(winner, score, other_info):\n",
    "    print(\"The winner was \" + winner)\n",
    "    print(\"The score was \" + score)\n",
    "display_result(winner=\"Manchester\", score=\"1-0\", overtime =\"yes\", injuries=\"none\") "
   ]
  },
  {
   "cell_type": "code",
   "execution_count": 14,
   "metadata": {},
   "outputs": [
    {
     "name": "stdout",
     "output_type": "stream",
     "text": [
      "The winner was Manchester\n",
      "The score was 1-0\n"
     ]
    },
    {
     "ename": "TypeError",
     "evalue": "can only concatenate str (not \"dict\") to str",
     "output_type": "error",
     "traceback": [
      "\u001b[1;31m---------------------------------------------------------------------------\u001b[0m",
      "\u001b[1;31mTypeError\u001b[0m                                 Traceback (most recent call last)",
      "\u001b[1;32m<ipython-input-14-0c5b81cac920>\u001b[0m in \u001b[0;36m<module>\u001b[1;34m\u001b[0m\n\u001b[0;32m      3\u001b[0m     \u001b[0mprint\u001b[0m\u001b[1;33m(\u001b[0m\u001b[1;34m\"The score was \"\u001b[0m \u001b[1;33m+\u001b[0m \u001b[0mscore\u001b[0m\u001b[1;33m)\u001b[0m\u001b[1;33m\u001b[0m\u001b[1;33m\u001b[0m\u001b[0m\n\u001b[0;32m      4\u001b[0m     \u001b[0mprint\u001b[0m\u001b[1;33m(\u001b[0m\u001b[1;34m\"The other info was \"\u001b[0m \u001b[1;33m+\u001b[0m\u001b[0mother_info\u001b[0m\u001b[1;33m)\u001b[0m\u001b[1;33m\u001b[0m\u001b[1;33m\u001b[0m\u001b[0m\n\u001b[1;32m----> 5\u001b[1;33m \u001b[0mdisplay_result\u001b[0m\u001b[1;33m(\u001b[0m\u001b[0mwinner\u001b[0m\u001b[1;33m=\u001b[0m\u001b[1;34m\"Manchester\"\u001b[0m\u001b[1;33m,\u001b[0m \u001b[0mscore\u001b[0m\u001b[1;33m=\u001b[0m\u001b[1;34m\"1-0\"\u001b[0m\u001b[1;33m,\u001b[0m \u001b[0movertime\u001b[0m \u001b[1;33m=\u001b[0m\u001b[1;34m\"yes\"\u001b[0m\u001b[1;33m,\u001b[0m \u001b[0minjuries\u001b[0m\u001b[1;33m=\u001b[0m\u001b[1;34m\"none\"\u001b[0m\u001b[1;33m)\u001b[0m\u001b[1;33m\u001b[0m\u001b[1;33m\u001b[0m\u001b[0m\n\u001b[0m",
      "\u001b[1;32m<ipython-input-14-0c5b81cac920>\u001b[0m in \u001b[0;36mdisplay_result\u001b[1;34m(winner, score, **other_info)\u001b[0m\n\u001b[0;32m      2\u001b[0m     \u001b[0mprint\u001b[0m\u001b[1;33m(\u001b[0m\u001b[1;34m\"The winner was \"\u001b[0m \u001b[1;33m+\u001b[0m \u001b[0mwinner\u001b[0m\u001b[1;33m)\u001b[0m\u001b[1;33m\u001b[0m\u001b[1;33m\u001b[0m\u001b[0m\n\u001b[0;32m      3\u001b[0m     \u001b[0mprint\u001b[0m\u001b[1;33m(\u001b[0m\u001b[1;34m\"The score was \"\u001b[0m \u001b[1;33m+\u001b[0m \u001b[0mscore\u001b[0m\u001b[1;33m)\u001b[0m\u001b[1;33m\u001b[0m\u001b[1;33m\u001b[0m\u001b[0m\n\u001b[1;32m----> 4\u001b[1;33m     \u001b[0mprint\u001b[0m\u001b[1;33m(\u001b[0m\u001b[1;34m\"The other info was \"\u001b[0m \u001b[1;33m+\u001b[0m\u001b[0mother_info\u001b[0m\u001b[1;33m)\u001b[0m\u001b[1;33m\u001b[0m\u001b[1;33m\u001b[0m\u001b[0m\n\u001b[0m\u001b[0;32m      5\u001b[0m \u001b[0mdisplay_result\u001b[0m\u001b[1;33m(\u001b[0m\u001b[0mwinner\u001b[0m\u001b[1;33m=\u001b[0m\u001b[1;34m\"Manchester\"\u001b[0m\u001b[1;33m,\u001b[0m \u001b[0mscore\u001b[0m\u001b[1;33m=\u001b[0m\u001b[1;34m\"1-0\"\u001b[0m\u001b[1;33m,\u001b[0m \u001b[0movertime\u001b[0m \u001b[1;33m=\u001b[0m\u001b[1;34m\"yes\"\u001b[0m\u001b[1;33m,\u001b[0m \u001b[0minjuries\u001b[0m\u001b[1;33m=\u001b[0m\u001b[1;34m\"none\"\u001b[0m\u001b[1;33m)\u001b[0m\u001b[1;33m\u001b[0m\u001b[1;33m\u001b[0m\u001b[0m\n",
      "\u001b[1;31mTypeError\u001b[0m: can only concatenate str (not \"dict\") to str"
     ]
    }
   ],
   "source": [
    "def display_result(winner, score, **other_info):\n",
    "    print(\"The winner was \" + winner)\n",
    "    print(\"The score was \" + score)\n",
    "    print(\"The other info was \" +other_info)\n",
    "display_result(winner=\"Manchester\", score=\"1-0\", overtime =\"yes\", injuries=\"none\") "
   ]
  },
  {
   "cell_type": "code",
   "execution_count": 15,
   "metadata": {},
   "outputs": [
    {
     "ename": "SyntaxError",
     "evalue": "invalid syntax (<ipython-input-15-e1281d3a7cf8>, line 4)",
     "output_type": "error",
     "traceback": [
      "\u001b[1;36m  File \u001b[1;32m\"<ipython-input-15-e1281d3a7cf8>\"\u001b[1;36m, line \u001b[1;32m4\u001b[0m\n\u001b[1;33m    print(\"The other info was \" +**other_info)\u001b[0m\n\u001b[1;37m                                  ^\u001b[0m\n\u001b[1;31mSyntaxError\u001b[0m\u001b[1;31m:\u001b[0m invalid syntax\n"
     ]
    }
   ],
   "source": [
    "def display_result(winner, score, **other_info):\n",
    "    print(\"The winner was \" + winner)\n",
    "    print(\"The score was \" + score)\n",
    "    print(\"The other info was \" +**other_info)\n",
    "display_result(winner=\"Manchester\", score=\"1-0\", overtime =\"yes\", injuries=\"none\") "
   ]
  },
  {
   "cell_type": "code",
   "execution_count": 16,
   "metadata": {},
   "outputs": [
    {
     "ename": "SyntaxError",
     "evalue": "invalid syntax (<ipython-input-16-61c7e40b42ce>, line 4)",
     "output_type": "error",
     "traceback": [
      "\u001b[1;36m  File \u001b[1;32m\"<ipython-input-16-61c7e40b42ce>\"\u001b[1;36m, line \u001b[1;32m4\u001b[0m\n\u001b[1;33m    print(\"The other info was \" +*other_info)\u001b[0m\n\u001b[1;37m                                 ^\u001b[0m\n\u001b[1;31mSyntaxError\u001b[0m\u001b[1;31m:\u001b[0m invalid syntax\n"
     ]
    }
   ],
   "source": [
    "def display_result(winner, score, **other_info):\n",
    "    print(\"The winner was \" + winner)\n",
    "    print(\"The score was \" + score)\n",
    "    print(\"The other info was \" +*other_info)\n",
    "display_result(winner=\"Manchester\", score=\"1-0\", overtime =\"yes\", injuries=\"none\") "
   ]
  },
  {
   "cell_type": "code",
   "execution_count": 17,
   "metadata": {},
   "outputs": [
    {
     "ename": "SyntaxError",
     "evalue": "invalid syntax (<ipython-input-17-c4f574e411f5>, line 11)",
     "output_type": "error",
     "traceback": [
      "\u001b[1;36m  File \u001b[1;32m\"<ipython-input-17-c4f574e411f5>\"\u001b[1;36m, line \u001b[1;32m11\u001b[0m\n\u001b[1;33m    def display_result(winner, **other_info, score):\u001b[0m\n\u001b[1;37m                                                 ^\u001b[0m\n\u001b[1;31mSyntaxError\u001b[0m\u001b[1;31m:\u001b[0m invalid syntax\n"
     ]
    }
   ],
   "source": [
    "#27. The position of parameters and arguments is re-arranged. Just think and find the logic behind\n",
    "#output or error.\n",
    "#def display_result(winner, **other_info, score):\n",
    "#print(\"The winner was \" + winner)\n",
    "#print(\"The score was \" + score)\n",
    "#display_result(winner=“Manchester\", overtime =\"yes\", injuries=\"none“ , score=\"1-0“ ) \n",
    "\n",
    "\n",
    "\n",
    "\n",
    "def display_result(winner, **other_info, score):\n",
    "    print(\"The winner was \" + winner)\n",
    "    print(\"The score was \" + score)\n",
    "display_result(winner=\"Manchester\", overtime =\"yes\", injuries=\"none\" , score=\"1-0\" ) \n"
   ]
  },
  {
   "cell_type": "code",
   "execution_count": 19,
   "metadata": {},
   "outputs": [
    {
     "name": "stdout",
     "output_type": "stream",
     "text": [
      "000123\n"
     ]
    }
   ],
   "source": [
    "#28. What will be the output of the following Python expression if X=123?\n",
    "#print(“%06d”%X)\n",
    "#a) 123000\n",
    "#b) 000123\n",
    "#c) 000000123\n",
    "#d) 123000000\n",
    "\n",
    "#Answer: b) 000123\n",
    "\n",
    "X=123\n",
    "print(\"%06d\"%X)\n",
    "\n",
    "\n",
    "\n"
   ]
  },
  {
   "cell_type": "code",
   "execution_count": 20,
   "metadata": {},
   "outputs": [
    {
     "name": "stdout",
     "output_type": "stream",
     "text": [
      "22.19\n"
     ]
    }
   ],
   "source": [
    "#29. What will be the output of the following Python expression if x=22.19?\n",
    "#print(\"%5.2f\"%x)\n",
    "#a) 22.1900\n",
    "#b) 22.00000\n",
    "#c) 22.19\n",
    "#d) 22.20\n",
    "\n",
    "#Answer: c) 22.19\n",
    "\n",
    "x=22.19\n",
    "print(\"%5.2f\"%x)\n",
    "\n",
    "\n",
    "\n"
   ]
  },
  {
   "cell_type": "code",
   "execution_count": 21,
   "metadata": {},
   "outputs": [
    {
     "data": {
      "text/plain": [
       "'1.234560, 1.234560, 01.23'"
      ]
     },
     "execution_count": 21,
     "metadata": {},
     "output_type": "execute_result"
    }
   ],
   "source": [
    "#30. What will be the output of the following Python code?\n",
    "#'{0:f}, {1:2f}, {2:05.2f}'.format(1.23456, 1.23456, 1.23456)\n",
    "#a) Error\n",
    "#b) ‘1.234560, 1.22345, 1.23’\n",
    "#c) No output\n",
    "#d) ‘1.234560, 1.234560, 01.23’\n",
    "\n",
    "#ANSWER: d) ‘1.234560, 1.234560, 01.23’\n",
    "\n",
    "\n",
    "'{0:f}, {1:2f}, {2:05.2f}'.format(1.23456, 1.23456, 1.23456)\n"
   ]
  },
  {
   "cell_type": "code",
   "execution_count": 22,
   "metadata": {},
   "outputs": [],
   "source": [
    "#31\n",
    "i = 6\n",
    "while False:\n",
    "    if i%2 == 0:\n",
    "        break\n",
    "        i += 2\n",
    "    print(i)\n",
    "    "
   ]
  },
  {
   "cell_type": "code",
   "execution_count": 23,
   "metadata": {},
   "outputs": [
    {
     "name": "stdout",
     "output_type": "stream",
     "text": [
      "a a a a a a "
     ]
    }
   ],
   "source": [
    "#32\n",
    "x = \"abcdef\"\n",
    "i = \"a\"\n",
    "while i in x:\n",
    "    x = x[:-1]\n",
    "    print(i, end = \" \")\n",
    "#i is using number of characters in x to increment"
   ]
  },
  {
   "cell_type": "code",
   "execution_count": 24,
   "metadata": {},
   "outputs": [
    {
     "name": "stdout",
     "output_type": "stream",
     "text": [
      "a a a "
     ]
    }
   ],
   "source": [
    "#33\n",
    "x = \"abc\"\n",
    "i = \"a\"\n",
    "while i in x:\n",
    "    x = x[:-1]\n",
    "    print(i, end = \" \")\n",
    "#i is using number of characters in x to increment when removed it removed"
   ]
  },
  {
   "cell_type": "code",
   "execution_count": 25,
   "metadata": {},
   "outputs": [
    {
     "name": "stdout",
     "output_type": "stream",
     "text": [
      "b b b b b "
     ]
    }
   ],
   "source": [
    "#33\n",
    "x = \"abcdef\"\n",
    "i = \"b\"\n",
    "while i in x:\n",
    "    x = x[:-1]\n",
    "    print(i, end = \" \")\n",
    "#i is using number of characters in x to increment what ever will be the value of i it will be multiplied by number of char x has\n"
   ]
  },
  {
   "cell_type": "code",
   "execution_count": 26,
   "metadata": {},
   "outputs": [
    {
     "name": "stdout",
     "output_type": "stream",
     "text": [
      "d\n",
      "c\n",
      "b\n",
      "a\n"
     ]
    }
   ],
   "source": [
    "#33\n",
    "for i in ''.join(reversed(list('abcd'))):\n",
    "    print (i)\n",
    "#loop is excecuting list in reverse and output after each run till list ends"
   ]
  },
  {
   "cell_type": "code",
   "execution_count": 27,
   "metadata": {},
   "outputs": [
    {
     "name": "stdout",
     "output_type": "stream",
     "text": [
      "48\n"
     ]
    }
   ],
   "source": [
    "#35\n",
    "y = 6\n",
    "z = lambda x: x * y\n",
    "print (z(8))"
   ]
  },
  {
   "cell_type": "code",
   "execution_count": 28,
   "metadata": {},
   "outputs": [
    {
     "data": {
      "text/plain": [
       "2"
      ]
     },
     "execution_count": 28,
     "metadata": {},
     "output_type": "execute_result"
    }
   ],
   "source": [
    "#36\n",
    "i=0\n",
    "def change(i):\n",
    "    i=i+1\n",
    "    return i\n",
    "change(1)\n",
    "# at line 5 it changes value of i from 0 to 1 AND ADS 1 IN IT \n",
    "#SO IT INCREMENTS ACCORDINT TO VALUE IN CHANGE()"
   ]
  },
  {
   "cell_type": "code",
   "execution_count": 29,
   "metadata": {},
   "outputs": [
    {
     "name": "stdout",
     "output_type": "stream",
     "text": [
      "<class 'tuple'>\n",
      "(2, 3, 4)\n"
     ]
    }
   ],
   "source": [
    "\n",
    "#40\n",
    "def change(one, *two):\n",
    "    print(type(two))\n",
    "    print(two)\n",
    "change(1,2,3,4)"
   ]
  },
  {
   "cell_type": "code",
   "execution_count": 30,
   "metadata": {},
   "outputs": [
    {
     "name": "stdout",
     "output_type": "stream",
     "text": [
      "<class 'dict'>\n"
     ]
    }
   ],
   "source": [
    "#41\n",
    "def find(a, **b):\n",
    "    print(type(b))\n",
    "find('letters',A='1',B='2')"
   ]
  },
  {
   "cell_type": "code",
   "execution_count": 31,
   "metadata": {},
   "outputs": [
    {
     "name": "stdout",
     "output_type": "stream",
     "text": [
      "[0]\n",
      "[0, 1]\n",
      "[0, 1, 2]\n"
     ]
    }
   ],
   "source": [
    "def foo(i, x=[]):\n",
    "    x.append(i)\n",
    "    return x\n",
    "for i in range(3):\n",
    "    print(foo(i))"
   ]
  },
  {
   "cell_type": "code",
   "execution_count": 32,
   "metadata": {},
   "outputs": [
    {
     "name": "stdout",
     "output_type": "stream",
     "text": [
      "15\n"
     ]
    }
   ],
   "source": [
    "#43\n",
    "print((3*(1+2)**2)-((2**2)*3))"
   ]
  },
  {
   "cell_type": "code",
   "execution_count": 33,
   "metadata": {},
   "outputs": [],
   "source": [
    "#44.You are creating a function that manipulates a number. The function has the following requirements:  A float is passed into the function  The function must take the absolute value of the float  Any decimal points after the integer must be removed\n",
    "\n",
    "#C. math.floor(x)\n",
    "\n",
    "#D. math.ceil(x)"
   ]
  },
  {
   "cell_type": "raw",
   "metadata": {},
   "source": [
    "45. You are writing code that generates a random integer with a minimum value of 5 and a maximum value of 11.\n",
    "Which two functions should you use? Each correct answer presents a complete solution. (Choose two.)\n",
    "\n",
    "B. random.randint(5, 11)\n",
    "\n",
    "D. random.randrange(5, 11, 1)"
   ]
  },
  {
   "cell_type": "code",
   "execution_count": 35,
   "metadata": {},
   "outputs": [
    {
     "name": "stdout",
     "output_type": "stream",
     "text": [
      "enter obtained marks67\n",
      "enter total marks98\n",
      "65.66 %\n",
      "grade d\n"
     ]
    }
   ],
   "source": [
    "#46. Write a program that receives marks from user and check the grade.\n",
    "#Marks greater than equal to 90 then A grade\n",
    "#Marks between 80 to 90, B grade\n",
    "#Marks between 70 to 80, C grade\n",
    "#Marks between 60 to 70, D grade\n",
    "#Marks less than equal to 60 then E grade\n",
    "\n",
    "#46\n",
    "x = input(\"enter obtained marks\")\n",
    "y = input(\"enter total marks\")\n",
    "z = (int(x)*int(y))/100\n",
    "print (z,\"%\")\n",
    "if z<=100 and z>=90:\n",
    "    p = \"a\"\n",
    "elif z<90 and z>=80:\n",
    "    p = \"b\"\n",
    "elif z<80 and z>=70:\n",
    "    p = \"c\"\n",
    "elif z<70 and z>=60:\n",
    "    p = \"d\"\n",
    "else:\n",
    "    p = \"e\"\n",
    "print(\"grade\", p)\n",
    "\n"
   ]
  },
  {
   "cell_type": "markdown",
   "metadata": {},
   "source": []
  },
  {
   "cell_type": "code",
   "execution_count": null,
   "metadata": {},
   "outputs": [],
   "source": []
  }
 ],
 "metadata": {
  "kernelspec": {
   "display_name": "Python 3",
   "language": "python",
   "name": "python3"
  },
  "language_info": {
   "codemirror_mode": {
    "name": "ipython",
    "version": 3
   },
   "file_extension": ".py",
   "mimetype": "text/x-python",
   "name": "python",
   "nbconvert_exporter": "python",
   "pygments_lexer": "ipython3",
   "version": "3.7.6"
  }
 },
 "nbformat": 4,
 "nbformat_minor": 2
}
