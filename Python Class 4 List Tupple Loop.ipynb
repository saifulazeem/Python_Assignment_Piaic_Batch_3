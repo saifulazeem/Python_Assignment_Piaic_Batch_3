{
 "cells": [
  {
   "cell_type": "code",
   "execution_count": 1,
   "metadata": {},
   "outputs": [],
   "source": [
    "#List data type is hetrogenious means no specfical include all data types.\n",
    "#Tupple is Immutable can not be changed.\n",
    "#List can be changed Mutable.\n",
    "#Loop For repetation we use loop to avoid repetation we use Functions."
   ]
  },
  {
   "cell_type": "code",
   "execution_count": 2,
   "metadata": {},
   "outputs": [
    {
     "name": "stdout",
     "output_type": "stream",
     "text": [
      "46\n"
     ]
    },
    {
     "data": {
      "text/plain": [
       "['__add__',\n",
       " '__class__',\n",
       " '__contains__',\n",
       " '__delattr__',\n",
       " '__delitem__',\n",
       " '__dir__',\n",
       " '__doc__',\n",
       " '__eq__',\n",
       " '__format__',\n",
       " '__ge__',\n",
       " '__getattribute__',\n",
       " '__getitem__',\n",
       " '__gt__',\n",
       " '__hash__',\n",
       " '__iadd__',\n",
       " '__imul__',\n",
       " '__init__',\n",
       " '__init_subclass__',\n",
       " '__iter__',\n",
       " '__le__',\n",
       " '__len__',\n",
       " '__lt__',\n",
       " '__mul__',\n",
       " '__ne__',\n",
       " '__new__',\n",
       " '__reduce__',\n",
       " '__reduce_ex__',\n",
       " '__repr__',\n",
       " '__reversed__',\n",
       " '__rmul__',\n",
       " '__setattr__',\n",
       " '__setitem__',\n",
       " '__sizeof__',\n",
       " '__str__',\n",
       " '__subclasshook__',\n",
       " 'append',\n",
       " 'clear',\n",
       " 'copy',\n",
       " 'count',\n",
       " 'extend',\n",
       " 'index',\n",
       " 'insert',\n",
       " 'pop',\n",
       " 'remove',\n",
       " 'reverse',\n",
       " 'sort']"
      ]
     },
     "execution_count": 2,
     "metadata": {},
     "output_type": "execute_result"
    }
   ],
   "source": [
    "print(len(dir(list)))\n",
    "dir(list)"
   ]
  },
  {
   "cell_type": "code",
   "execution_count": 3,
   "metadata": {},
   "outputs": [
    {
     "name": "stdout",
     "output_type": "stream",
     "text": [
      "Help on class list in module builtins:\n",
      "\n",
      "class list(object)\n",
      " |  list(iterable=(), /)\n",
      " |  \n",
      " |  Built-in mutable sequence.\n",
      " |  \n",
      " |  If no argument is given, the constructor creates a new empty list.\n",
      " |  The argument must be an iterable if specified.\n",
      " |  \n",
      " |  Methods defined here:\n",
      " |  \n",
      " |  __add__(self, value, /)\n",
      " |      Return self+value.\n",
      " |  \n",
      " |  __contains__(self, key, /)\n",
      " |      Return key in self.\n",
      " |  \n",
      " |  __delitem__(self, key, /)\n",
      " |      Delete self[key].\n",
      " |  \n",
      " |  __eq__(self, value, /)\n",
      " |      Return self==value.\n",
      " |  \n",
      " |  __ge__(self, value, /)\n",
      " |      Return self>=value.\n",
      " |  \n",
      " |  __getattribute__(self, name, /)\n",
      " |      Return getattr(self, name).\n",
      " |  \n",
      " |  __getitem__(...)\n",
      " |      x.__getitem__(y) <==> x[y]\n",
      " |  \n",
      " |  __gt__(self, value, /)\n",
      " |      Return self>value.\n",
      " |  \n",
      " |  __iadd__(self, value, /)\n",
      " |      Implement self+=value.\n",
      " |  \n",
      " |  __imul__(self, value, /)\n",
      " |      Implement self*=value.\n",
      " |  \n",
      " |  __init__(self, /, *args, **kwargs)\n",
      " |      Initialize self.  See help(type(self)) for accurate signature.\n",
      " |  \n",
      " |  __iter__(self, /)\n",
      " |      Implement iter(self).\n",
      " |  \n",
      " |  __le__(self, value, /)\n",
      " |      Return self<=value.\n",
      " |  \n",
      " |  __len__(self, /)\n",
      " |      Return len(self).\n",
      " |  \n",
      " |  __lt__(self, value, /)\n",
      " |      Return self<value.\n",
      " |  \n",
      " |  __mul__(self, value, /)\n",
      " |      Return self*value.\n",
      " |  \n",
      " |  __ne__(self, value, /)\n",
      " |      Return self!=value.\n",
      " |  \n",
      " |  __repr__(self, /)\n",
      " |      Return repr(self).\n",
      " |  \n",
      " |  __reversed__(self, /)\n",
      " |      Return a reverse iterator over the list.\n",
      " |  \n",
      " |  __rmul__(self, value, /)\n",
      " |      Return value*self.\n",
      " |  \n",
      " |  __setitem__(self, key, value, /)\n",
      " |      Set self[key] to value.\n",
      " |  \n",
      " |  __sizeof__(self, /)\n",
      " |      Return the size of the list in memory, in bytes.\n",
      " |  \n",
      " |  append(self, object, /)\n",
      " |      Append object to the end of the list.\n",
      " |  \n",
      " |  clear(self, /)\n",
      " |      Remove all items from list.\n",
      " |  \n",
      " |  copy(self, /)\n",
      " |      Return a shallow copy of the list.\n",
      " |  \n",
      " |  count(self, value, /)\n",
      " |      Return number of occurrences of value.\n",
      " |  \n",
      " |  extend(self, iterable, /)\n",
      " |      Extend list by appending elements from the iterable.\n",
      " |  \n",
      " |  index(self, value, start=0, stop=9223372036854775807, /)\n",
      " |      Return first index of value.\n",
      " |      \n",
      " |      Raises ValueError if the value is not present.\n",
      " |  \n",
      " |  insert(self, index, object, /)\n",
      " |      Insert object before index.\n",
      " |  \n",
      " |  pop(self, index=-1, /)\n",
      " |      Remove and return item at index (default last).\n",
      " |      \n",
      " |      Raises IndexError if list is empty or index is out of range.\n",
      " |  \n",
      " |  remove(self, value, /)\n",
      " |      Remove first occurrence of value.\n",
      " |      \n",
      " |      Raises ValueError if the value is not present.\n",
      " |  \n",
      " |  reverse(self, /)\n",
      " |      Reverse *IN PLACE*.\n",
      " |  \n",
      " |  sort(self, /, *, key=None, reverse=False)\n",
      " |      Stable sort *IN PLACE*.\n",
      " |  \n",
      " |  ----------------------------------------------------------------------\n",
      " |  Static methods defined here:\n",
      " |  \n",
      " |  __new__(*args, **kwargs) from builtins.type\n",
      " |      Create and return a new object.  See help(type) for accurate signature.\n",
      " |  \n",
      " |  ----------------------------------------------------------------------\n",
      " |  Data and other attributes defined here:\n",
      " |  \n",
      " |  __hash__ = None\n",
      "\n"
     ]
    }
   ],
   "source": [
    "#For help of list Functions\n",
    "help(list)"
   ]
  },
  {
   "cell_type": "code",
   "execution_count": 4,
   "metadata": {},
   "outputs": [
    {
     "data": {
      "text/plain": [
       "'Saif'"
      ]
     },
     "execution_count": 4,
     "metadata": {},
     "output_type": "execute_result"
    }
   ],
   "source": [
    "name = \"Saif\"\n",
    "name\n"
   ]
  },
  {
   "cell_type": "code",
   "execution_count": 5,
   "metadata": {},
   "outputs": [
    {
     "name": "stdout",
     "output_type": "stream",
     "text": [
      "A B c\n"
     ]
    }
   ],
   "source": [
    "name1 = \"A\"\n",
    "name2 = \"B\"\n",
    "name3 = \"c\"\n",
    "print(name1,name2,name3)\n",
    "\n",
    "#To avoid the above problem we use List"
   ]
  },
  {
   "cell_type": "code",
   "execution_count": 8,
   "metadata": {},
   "outputs": [
    {
     "name": "stdout",
     "output_type": "stream",
     "text": [
      "<class 'list'>\n",
      "C B\n"
     ]
    }
   ],
   "source": [
    "#Index    0   1   2\n",
    "names = [\"A\",\"B\",\"C\"]\n",
    " #         -3  -2  -1\n",
    "print(type(names))\n",
    "\n",
    "print(names[-1],names[1])"
   ]
  },
  {
   "cell_type": "code",
   "execution_count": 10,
   "metadata": {},
   "outputs": [
    {
     "name": "stdout",
     "output_type": "stream",
     "text": [
      "pakistan\n",
      "None\n"
     ]
    }
   ],
   "source": [
    "#return we can assign the resluts of this into any variable\n",
    "\n",
    "a = print('pakistan') #Non Return\n",
    "print(a)"
   ]
  },
  {
   "cell_type": "code",
   "execution_count": 11,
   "metadata": {},
   "outputs": [
    {
     "name": "stdout",
     "output_type": "stream",
     "text": [
      "24\n"
     ]
    }
   ],
   "source": [
    "a = len(\"my name is muhammad saif\") #Return Function\n",
    "print(a)"
   ]
  },
  {
   "cell_type": "code",
   "execution_count": 12,
   "metadata": {},
   "outputs": [],
   "source": [
    "l1 = [\"A\",\"B\",\"C\"] #Use Tab for Intelisense and sfit+Tab for help\n",
    "l1.append()"
   ]
  },
  {
   "cell_type": "code",
   "execution_count": 14,
   "metadata": {},
   "outputs": [
    {
     "name": "stdout",
     "output_type": "stream",
     "text": [
      "['A', 'B', 'C']\n"
     ]
    }
   ],
   "source": [
    "l2 = []\n",
    "l2.append(\"A\") # [\"A\"]\n",
    "l2.append(\"B\") # [\"A\",\"B\"]\n",
    "l2.append(\"C\") #[\"A\",\"B\",\"C\"]\n",
    "\n",
    "print(l2)"
   ]
  },
  {
   "cell_type": "code",
   "execution_count": 15,
   "metadata": {},
   "outputs": [
    {
     "name": "stdout",
     "output_type": "stream",
     "text": [
      "['A', 'B', 'C', 'A', 'B', 'C']\n",
      "[]\n"
     ]
    }
   ],
   "source": [
    "print(l1)\n",
    "l1.clear()\n",
    "print(l1)"
   ]
  },
  {
   "cell_type": "code",
   "execution_count": 17,
   "metadata": {},
   "outputs": [
    {
     "name": "stdout",
     "output_type": "stream",
     "text": [
      "['a', 'b', 'c']\n"
     ]
    },
    {
     "ename": "NameError",
     "evalue": "name 'l1' is not defined",
     "output_type": "error",
     "traceback": [
      "\u001b[1;31m---------------------------------------------------------------------------\u001b[0m",
      "\u001b[1;31mNameError\u001b[0m                                 Traceback (most recent call last)",
      "\u001b[1;32m<ipython-input-17-fb0cb1817ff5>\u001b[0m in \u001b[0;36m<module>\u001b[1;34m\u001b[0m\n\u001b[0;32m      2\u001b[0m \u001b[0mprint\u001b[0m\u001b[1;33m(\u001b[0m\u001b[0ml1\u001b[0m\u001b[1;33m)\u001b[0m\u001b[1;33m\u001b[0m\u001b[1;33m\u001b[0m\u001b[0m\n\u001b[0;32m      3\u001b[0m \u001b[1;32mdel\u001b[0m\u001b[1;33m(\u001b[0m\u001b[0ml1\u001b[0m\u001b[1;33m)\u001b[0m\u001b[1;33m\u001b[0m\u001b[1;33m\u001b[0m\u001b[0m\n\u001b[1;32m----> 4\u001b[1;33m \u001b[0mprint\u001b[0m\u001b[1;33m(\u001b[0m\u001b[0ml1\u001b[0m\u001b[1;33m)\u001b[0m\u001b[1;33m\u001b[0m\u001b[1;33m\u001b[0m\u001b[0m\n\u001b[0m",
      "\u001b[1;31mNameError\u001b[0m: name 'l1' is not defined"
     ]
    }
   ],
   "source": [
    "l1 = [\"a\",\"b\",\"c\"]\n",
    "print(l1)\n",
    "del(l1)\n",
    "print(l1)"
   ]
  },
  {
   "cell_type": "code",
   "execution_count": 18,
   "metadata": {},
   "outputs": [
    {
     "name": "stdout",
     "output_type": "stream",
     "text": [
      "['A', 'B', 'C']\n",
      "['A', 'B', 'C']\n",
      "['Pakistan', 'B', 'C']\n",
      "['Pakistan', 'B', 'C']\n"
     ]
    }
   ],
   "source": [
    "lst1 = [\"A\",\"B\",\"C\"]\n",
    "lst2 = lst1 #Shallow copy #same addresses for data\n",
    "print(lst1)\n",
    "print(lst2)\n",
    "\n",
    "lst2[0] = \"Pakistan\" #Deep Copy #dEAL DATA SEPRATLY\n",
    "print(lst1)\n",
    "print(lst2)"
   ]
  },
  {
   "cell_type": "code",
   "execution_count": 19,
   "metadata": {},
   "outputs": [
    {
     "data": {
      "text/plain": [
       "2"
      ]
     },
     "execution_count": 19,
     "metadata": {},
     "output_type": "execute_result"
    }
   ],
   "source": [
    "lst22 = [\"a\",\"b\",\"c\",\"d\",\"a\",\"c\"]\n",
    "lst22.count(\"c\")"
   ]
  },
  {
   "cell_type": "code",
   "execution_count": 20,
   "metadata": {},
   "outputs": [
    {
     "name": "stdout",
     "output_type": "stream",
     "text": [
      "['A', 'B', 'C', 'Y', 'X', 'Z']\n",
      "['A', 'B', 'C'] ['Y', 'X', 'Z']\n"
     ]
    }
   ],
   "source": [
    "lst21 = [\"A\",\"B\",\"C\"]\n",
    "lst20 = [\"Y\",\"X\",\"Z\"]\n",
    "\n",
    "print(lst21+lst20) #Inline Operation\n",
    "print(lst21,lst20)"
   ]
  },
  {
   "cell_type": "code",
   "execution_count": 21,
   "metadata": {},
   "outputs": [
    {
     "name": "stdout",
     "output_type": "stream",
     "text": [
      "['A', 'B', 'C', 'Y', 'X', 'Z']\n",
      "['Y', 'X', 'Z']\n"
     ]
    }
   ],
   "source": [
    "lst21 = [\"A\",\"B\",\"C\"]\n",
    "lst20 = [\"Y\",\"X\",\"Z\"]\n",
    "\n",
    "lst21.extend(lst20) #In Memory Operation\n",
    "print(lst21)\n",
    "print(lst20)"
   ]
  },
  {
   "cell_type": "code",
   "execution_count": 24,
   "metadata": {},
   "outputs": [
    {
     "name": "stdout",
     "output_type": "stream",
     "text": [
      "['Y', 'X', 'Z']\n",
      "1\n"
     ]
    }
   ],
   "source": [
    "print(lst20)\n",
    "print(lst20.index(\"X\")) #Always return first index value if that value is repeating see example below"
   ]
  },
  {
   "cell_type": "code",
   "execution_count": 25,
   "metadata": {},
   "outputs": [
    {
     "name": "stdout",
     "output_type": "stream",
     "text": [
      "0\n",
      "3\n"
     ]
    }
   ],
   "source": [
    "lstt = [\"A\",\"B\",\"C\",\"A\",\"D\"]\n",
    "print(lstt.index(\"A\"))\n",
    "print(lstt.index(\"A\",2))"
   ]
  },
  {
   "cell_type": "code",
   "execution_count": 27,
   "metadata": {},
   "outputs": [
    {
     "name": "stdout",
     "output_type": "stream",
     "text": [
      "['C', 'B', 'A']\n",
      "['C', 'D', 'B', 'A']\n"
     ]
    }
   ],
   "source": [
    "lst = []\n",
    "lst.insert(0, \"A\")#[A]\n",
    "lst.insert(0, \"B\")#[B,A]\n",
    "lst.insert(0, \"C\")#[C,B,A]\n",
    "\n",
    "print(lst)\n",
    "\n",
    "lst.insert(1, \"D\")\n",
    "print(lst)"
   ]
  },
  {
   "cell_type": "code",
   "execution_count": 29,
   "metadata": {},
   "outputs": [
    {
     "data": {
      "text/plain": [
       "['A']"
      ]
     },
     "execution_count": 29,
     "metadata": {},
     "output_type": "execute_result"
    }
   ],
   "source": [
    "lxt = [\"A\",\"B\",\"C\"]\n",
    "del lxt[-1]#[\"A\",\"B\"]\n",
    "del lxt[-1]#[\"A\"]\n",
    "lxt"
   ]
  },
  {
   "cell_type": "code",
   "execution_count": null,
   "metadata": {},
   "outputs": [],
   "source": []
  },
  {
   "cell_type": "code",
   "execution_count": 35,
   "metadata": {},
   "outputs": [
    {
     "name": "stdout",
     "output_type": "stream",
     "text": [
      "['A', 'B']\n",
      "['E', 'D', 'C']\n"
     ]
    }
   ],
   "source": [
    "lxt1 = [\"A\",\"B\",\"C\",\"D\",\"E\"]\n",
    "lxt2 = []\n",
    "a = lxt1.pop() #E\n",
    "lxt2.append(a) #[E]\n",
    "        \n",
    "a = lxt1.pop() #D\n",
    "lxt2.append(a) #[E,D]\n",
    "        \n",
    "        \n",
    "a = lxt1.pop() #C\n",
    "lxt2.append(a) #[E,D,C]\n",
    "        \n",
    "print(lxt1) #[\"A\",\"B\"]\n",
    "print(lxt2) #[E,D,C]\n",
    "\n",
    "\n",
    "#We can also include index number in e.g pop(1) "
   ]
  },
  {
   "cell_type": "code",
   "execution_count": 36,
   "metadata": {},
   "outputs": [
    {
     "name": "stdout",
     "output_type": "stream",
     "text": [
      "['A', 'C']\n"
     ]
    }
   ],
   "source": [
    "lxt11 = [\"A\",\"B\",\"C\"] #Del by Value throuh search\n",
    "lxt11.remove(\"B\") #Remove on the base of 1st occurance but can not bu index\n",
    "print(lxt11)"
   ]
  },
  {
   "cell_type": "code",
   "execution_count": 37,
   "metadata": {},
   "outputs": [
    {
     "name": "stdout",
     "output_type": "stream",
     "text": [
      "['A', 'B', 'C', 'D', 'X', 'Y', 'Z']\n",
      "['Z', 'Y', 'X', 'D', 'C', 'B', 'A']\n"
     ]
    }
   ],
   "source": [
    "lxtt = [\"A\",\"B\",\"C\",\"D\",\"X\",\"Y\",\"Z\"]\n",
    "print(lxtt)\n",
    "lxtt.reverse()\n",
    "print(lxtt)"
   ]
  },
  {
   "cell_type": "code",
   "execution_count": 38,
   "metadata": {},
   "outputs": [
    {
     "name": "stdout",
     "output_type": "stream",
     "text": [
      "['Z', 'Y', 'X', 'D', 'C', 'B', 'A']\n",
      "['A', 'B', 'C', 'D', 'F', 'X', 'Y', 'Z']\n"
     ]
    }
   ],
   "source": [
    "lxttt = [\"A\",\"B\",\"C\",\"D\",\"F\",\"X\",\"Y\",\"Z\"]\n",
    "print(lxtt)\n",
    "lxttt.sort()\n",
    "print(lxttt)"
   ]
  },
  {
   "cell_type": "code",
   "execution_count": 39,
   "metadata": {},
   "outputs": [
    {
     "name": "stdout",
     "output_type": "stream",
     "text": [
      "['Z', 'Y', 'X', 'D', 'C', 'B', 'A']\n",
      "['Z', 'Y', 'X', 'F', 'D', 'C', 'B', 'A']\n"
     ]
    }
   ],
   "source": [
    "lxttt = [\"A\",\"B\",\"C\",\"D\",\"F\",\"X\",\"Y\",\"Z\"]\n",
    "print(lxtt)\n",
    "lxttt.sort(reverse=True)\n",
    "print(lxttt)"
   ]
  },
  {
   "cell_type": "code",
   "execution_count": 57,
   "metadata": {
    "scrolled": true
   },
   "outputs": [
    {
     "name": "stdout",
     "output_type": "stream",
     "text": [
      "['Saif', 'Ali', 'Zain', 'Ummer', 'Kashif']\n",
      "1\n",
      "['Saif', 'Ali', 'Zain', 'Ummer', 'Kashif', 'Saif', 'Ali', 'Zain', 'Ummer', 'Kashif']\n",
      "1\n",
      "['Kashif', 'Ummer', 'Zain', 'Ali', 'Saif', 'Kashif', 'Ummer', 'Zain', 'Ali', 'Saif']\n",
      "['Kashif', 'Ummer', 'Ali', 'Saif', 'Kashif', 'Ummer', 'Zain', 'Ali', 'Saif']\n",
      "['Ali', 'Ali', 'Kashif', 'Kashif', 'Saif', 'Saif', 'Ummer', 'Ummer', 'Zain']\n",
      "['Ali', 'Ali', 'Kashif', 'Kashif', 'Saif', 'Saif', 'Ummer', 'Ummer']\n",
      "['Ali', 'Ali', 'Kashif', 'Zain', 'Kashif', 'Saif', 'Saif', 'Ummer', 'Ummer']\n"
     ]
    }
   ],
   "source": [
    "my_lsit = [\"Saif\",\"Ali\",\"Zain\",\"Ummer\"]\n",
    "my_lsit.append(\"Kashif\")\n",
    "print(my_lsit)\n",
    "print(my_lsit.count(\"Saif\"))\n",
    "my_lsit.extend(my_lsit)\n",
    "print(my_lsit)\n",
    "print(my_lsit.index(\"Ali\"))\n",
    "my_lsit.reverse()\n",
    "print(my_lsit)\n",
    "my_lsit.remove(\"Zain\")\n",
    "print(my_lsit)\n",
    "my_lsit.sort()\n",
    "print(my_lsit)\n",
    "my_lsit.pop()\n",
    "print(my_lsit)\n",
    "my_lsit.insert(3,\"Zain\")\n",
    "print(my_lsit)\n",
    "#my_lsit.clear()"
   ]
  },
  {
   "cell_type": "code",
   "execution_count": 59,
   "metadata": {},
   "outputs": [
    {
     "name": "stdout",
     "output_type": "stream",
     "text": [
      "['Ali', 'Ali', 'Kashif', 'Zain', 'Kashif', 'Saif', 'Saif', 'Ummer', 'Ummer'] ['A', 'B', 'C', 'D']\n",
      "['Ali', 'Ali', 'Kashif', 'Zain', 'Kashif', 'Saif', 'Saif', 'Ummer', 'Ummer', 'A', 'B', 'C', 'D']\n",
      "['Ali', 'Ali', 'Kashif', 'Zain', 'Kashif', 'Saif', 'Saif', 'Ummer', 'Ummer'] ['A', 'B', 'C', 'D']\n"
     ]
    }
   ],
   "source": [
    "lsit1 = [\"A\",\"B\",\"C\",\"D\"]\n",
    "print(my_lsit,lsit1)\n",
    "print(my_lsit.__add__(lsit1)) # Inline Operation #Real data is not disturbed\n",
    "print(my_lsit,lsit1)"
   ]
  },
  {
   "cell_type": "code",
   "execution_count": 61,
   "metadata": {},
   "outputs": [
    {
     "name": "stdout",
     "output_type": "stream",
     "text": [
      "['A', 'B', 'C', 'D']\n"
     ]
    },
    {
     "data": {
      "text/plain": [
       "list"
      ]
     },
     "execution_count": 61,
     "metadata": {},
     "output_type": "execute_result"
    }
   ],
   "source": [
    "print(lsit1)\n",
    "lsit1.__class__"
   ]
  },
  {
   "cell_type": "code",
   "execution_count": 64,
   "metadata": {},
   "outputs": [
    {
     "name": "stdout",
     "output_type": "stream",
     "text": [
      "['A', 'B', 'C', 'D']\n"
     ]
    },
    {
     "data": {
      "text/plain": [
       "True"
      ]
     },
     "execution_count": 64,
     "metadata": {},
     "output_type": "execute_result"
    }
   ],
   "source": [
    "print(lsit1)\n",
    "lsit1.__contains__(\"B\")"
   ]
  },
  {
   "cell_type": "code",
   "execution_count": 67,
   "metadata": {},
   "outputs": [
    {
     "name": "stdout",
     "output_type": "stream",
     "text": [
      "['A', 'B', 'C', 'D']\n"
     ]
    },
    {
     "data": {
      "text/plain": [
       "['A', 'C', 'D']"
      ]
     },
     "execution_count": 67,
     "metadata": {},
     "output_type": "execute_result"
    }
   ],
   "source": [
    "print(lsit1)\n",
    "#lsit1.__delattr__ #Remvoe attribute fro class\n",
    "\n",
    "lsit1.__delitem__(1) #kind of pop()\n",
    "lsit1"
   ]
  },
  {
   "cell_type": "code",
   "execution_count": 69,
   "metadata": {},
   "outputs": [
    {
     "data": {
      "text/plain": [
       "'Built-in mutable sequence.\\n\\nIf no argument is given, the constructor creates a new empty list.\\nThe argument must be an iterable if specified.'"
      ]
     },
     "execution_count": 69,
     "metadata": {},
     "output_type": "execute_result"
    }
   ],
   "source": [
    "lsit1.__doc__"
   ]
  },
  {
   "cell_type": "code",
   "execution_count": 70,
   "metadata": {},
   "outputs": [
    {
     "data": {
      "text/plain": [
       "False"
      ]
     },
     "execution_count": 70,
     "metadata": {},
     "output_type": "execute_result"
    }
   ],
   "source": [
    "#[1,2,3]\n",
    "#[1,2,3,4]\n",
    "#False\n",
    "lsit1.__eq__(my_lsit)"
   ]
  },
  {
   "cell_type": "code",
   "execution_count": 72,
   "metadata": {},
   "outputs": [
    {
     "data": {
      "text/plain": [
       "True"
      ]
     },
     "execution_count": 72,
     "metadata": {},
     "output_type": "execute_result"
    }
   ],
   "source": [
    "[5,7,8].__ge__([1,2,3])\n",
    "#[5,7,9]\n",
    "#[1,2,3]\n",
    "#true"
   ]
  },
  {
   "cell_type": "code",
   "execution_count": 73,
   "metadata": {},
   "outputs": [
    {
     "data": {
      "text/plain": [
       "['A', 'A']"
      ]
     },
     "execution_count": 73,
     "metadata": {},
     "output_type": "execute_result"
    }
   ],
   "source": [
    "['A'].__mul__(2)"
   ]
  },
  {
   "cell_type": "code",
   "execution_count": 74,
   "metadata": {},
   "outputs": [
    {
     "data": {
      "text/plain": [
       "<function list.__sizeof__()>"
      ]
     },
     "execution_count": 74,
     "metadata": {},
     "output_type": "execute_result"
    }
   ],
   "source": [
    "['A'].__sizeof__"
   ]
  },
  {
   "cell_type": "code",
   "execution_count": null,
   "metadata": {},
   "outputs": [],
   "source": [
    "#Tupple Ittrateable"
   ]
  },
  {
   "cell_type": "code",
   "execution_count": 75,
   "metadata": {},
   "outputs": [
    {
     "ename": "TypeError",
     "evalue": "'tuple' object does not support item assignment",
     "output_type": "error",
     "traceback": [
      "\u001b[1;31m---------------------------------------------------------------------------\u001b[0m",
      "\u001b[1;31mTypeError\u001b[0m                                 Traceback (most recent call last)",
      "\u001b[1;32m<ipython-input-75-f1f9ed22b368>\u001b[0m in \u001b[0;36m<module>\u001b[1;34m\u001b[0m\n\u001b[0;32m      1\u001b[0m \u001b[0mt1\u001b[0m \u001b[1;33m=\u001b[0m \u001b[1;33m(\u001b[0m\u001b[1;34m\"A\"\u001b[0m\u001b[1;33m,\u001b[0m\u001b[1;34m\"B\"\u001b[0m\u001b[1;33m,\u001b[0m\u001b[1;34m\"C\"\u001b[0m\u001b[1;33m,\u001b[0m\u001b[1;34m\"D\"\u001b[0m\u001b[1;33m)\u001b[0m\u001b[1;33m\u001b[0m\u001b[1;33m\u001b[0m\u001b[0m\n\u001b[1;32m----> 2\u001b[1;33m \u001b[0mt1\u001b[0m\u001b[1;33m[\u001b[0m\u001b[1;36m1\u001b[0m\u001b[1;33m]\u001b[0m \u001b[1;33m=\u001b[0m \u001b[1;36m5\u001b[0m\u001b[1;33m\u001b[0m\u001b[1;33m\u001b[0m\u001b[0m\n\u001b[0m\u001b[0;32m      3\u001b[0m \u001b[0mprint\u001b[0m\u001b[1;33m(\u001b[0m\u001b[0mt1\u001b[0m\u001b[1;33m)\u001b[0m\u001b[1;33m\u001b[0m\u001b[1;33m\u001b[0m\u001b[0m\n",
      "\u001b[1;31mTypeError\u001b[0m: 'tuple' object does not support item assignment"
     ]
    }
   ],
   "source": [
    "t1 = (\"A\",\"B\",\"C\",\"D\")\n",
    "t1[1] = 5\n",
    "print(t1)"
   ]
  },
  {
   "cell_type": "code",
   "execution_count": null,
   "metadata": {},
   "outputs": [],
   "source": [
    "#All methods almost like list\n",
    "#Use where we dont want to change any value e.g session_id etc.\n"
   ]
  },
  {
   "cell_type": "code",
   "execution_count": null,
   "metadata": {},
   "outputs": [],
   "source": []
  },
  {
   "cell_type": "code",
   "execution_count": null,
   "metadata": {},
   "outputs": [],
   "source": []
  },
  {
   "cell_type": "code",
   "execution_count": null,
   "metadata": {},
   "outputs": [],
   "source": []
  }
 ],
 "metadata": {
  "kernelspec": {
   "display_name": "Python 3",
   "language": "python",
   "name": "python3"
  },
  "language_info": {
   "codemirror_mode": {
    "name": "ipython",
    "version": 3
   },
   "file_extension": ".py",
   "mimetype": "text/x-python",
   "name": "python",
   "nbconvert_exporter": "python",
   "pygments_lexer": "ipython3",
   "version": "3.7.1"
  }
 },
 "nbformat": 4,
 "nbformat_minor": 2
}
