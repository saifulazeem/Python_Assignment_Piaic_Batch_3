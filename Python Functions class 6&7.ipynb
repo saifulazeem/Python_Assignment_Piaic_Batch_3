{
 "cells": [
  {
   "cell_type": "code",
   "execution_count": 1,
   "metadata": {},
   "outputs": [
    {
     "data": {
      "text/plain": [
       "11"
      ]
     },
     "execution_count": 1,
     "metadata": {},
     "output_type": "execute_result"
    }
   ],
   "source": [
    "def abc (x,y): return x+y\n",
    "\n",
    "abc(5,6)"
   ]
  },
  {
   "cell_type": "code",
   "execution_count": 2,
   "metadata": {},
   "outputs": [
    {
     "data": {
      "text/plain": [
       "20"
      ]
     },
     "execution_count": 2,
     "metadata": {},
     "output_type": "execute_result"
    }
   ],
   "source": [
    "abc = lambda x,y,z: x+y+z\n",
    "abc(5,6,9)\n",
    "\n",
    "#Lamda fuction one line ka fun, bina name ka function, na isy pehly istemal huwa na is ky bad istemal ho ga."
   ]
  },
  {
   "cell_type": "code",
   "execution_count": 3,
   "metadata": {},
   "outputs": [],
   "source": [
    "#Function are of two types User Defined function and Pre Defined Function(E.g all function of real world  )\n",
    "#Then come Recursive functions in Python (E.g Barber shop mirror image example recursion is allways infinite )\n",
    "#Recursive function call itself in his own boady.Recursive is effieicient way.\n",
    "#Function  Declaration(defining parameters),body(set of statements),calling(telling the Quantities called arguments)\n",
    "#Incrideients of function are call parameters e.g to make tea parameters are (milk,shugar,tea)\n"
   ]
  },
  {
   "cell_type": "code",
   "execution_count": 4,
   "metadata": {},
   "outputs": [],
   "source": [
    "#Generator Functions\n",
    "#Genrate numbers from 1 to 1M then show the numbers that are divisible to 5,7 and 15"
   ]
  },
  {
   "cell_type": "code",
   "execution_count": 5,
   "metadata": {},
   "outputs": [],
   "source": [
    "#Some function does not required any argument at the time of calling known as default functions.\n",
    "#(e.g Day night example real word function)\n",
    "#Microsoft execl function\n",
    "#Some function must required arguments e,g (Wedding Example for muslims wedding no of argument are 7.and some are optional \n",
    "#they have already defalut value set)\n",
    "#Positional argument e.g (Fist sugar,then tea,then milk must be followed in sequence solution is key word argument if sequenced not followed)\n",
    "#the fuction who value can be saved in any variable is called return function vise versa non return function.\n"
   ]
  },
  {
   "cell_type": "code",
   "execution_count": 7,
   "metadata": {},
   "outputs": [
    {
     "name": "stdout",
     "output_type": "stream",
     "text": [
      "Pakistan Zinda bad\n",
      "We are pakistani\n",
      "We love our country\n",
      "Pakistan Zinda bad\n",
      "We are pakistani\n",
      "We love our country\n",
      "Pakistan Zinda bad\n",
      "We are pakistani\n",
      "We love our country\n"
     ]
    }
   ],
   "source": [
    "print(\"Pakistan Zinda bad\")\n",
    "print(\"We are pakistani\")\n",
    "print(\"We love our country\")\n",
    "\n",
    "#Linear programming jo b kam krna h her kam k lie ak line likhni pary gi. it is fast.\n",
    "  #update is difficult.\n",
    "\n",
    "#Structure programming if else loop while etc.. jo b chez repat krvani ya repeatation sy bachna hy its helps alot there.\n",
    "\n",
    "print(\"Pakistan Zinda bad\")\n",
    "print(\"We are pakistani\")\n",
    "print(\"We love our country\")\n",
    "\n",
    "print(\"Pakistan Zinda bad\")\n",
    "print(\"We are pakistani\")\n",
    "print(\"We love our country\")"
   ]
  },
  {
   "cell_type": "code",
   "execution_count": 9,
   "metadata": {},
   "outputs": [
    {
     "name": "stdout",
     "output_type": "stream",
     "text": [
      "Pre defined Function\n",
      "namesaif\n",
      "<class 'int'>\n",
      "2\n"
     ]
    }
   ],
   "source": [
    "#pre defined Functions\n",
    "print(\"Pre defined Function\")\n",
    "\n",
    "input(\"name\")\n",
    "\n",
    "print(type(22))\n",
    "print(len('ad'))"
   ]
  },
  {
   "cell_type": "code",
   "execution_count": 11,
   "metadata": {},
   "outputs": [
    {
     "name": "stdout",
     "output_type": "stream",
     "text": [
      "Pakistan Zinda bad\n",
      "We are pakistani\n",
      "We love our country\n",
      "Pakistan Zinda bad\n",
      "We are pakistani\n",
      "We love our country\n",
      "Pakistan Zinda bad\n",
      "We are pakistani\n",
      "We love our country\n",
      "Pakistan Zinda bad\n",
      "We are pakistani\n",
      "We love our country\n"
     ]
    }
   ],
   "source": [
    "#User Defined Function\n",
    "#Key word for function declaration \"def\"\n",
    "\n",
    "def  my_fun(): #fun Declaration\n",
    "    #Function Body Start indentation block\n",
    "    print(\"Pakistan Zinda bad\")#statement 1\n",
    "    print(\"We are pakistani\")#statement 2\n",
    "    print(\"We love our country\")#statement 3\n",
    "    #Bady End indentation block\n",
    "    \n",
    "my_fun()\n",
    "my_fun()\n",
    "my_fun()\n",
    "my_fun()"
   ]
  },
  {
   "cell_type": "code",
   "execution_count": 12,
   "metadata": {},
   "outputs": [
    {
     "name": "stdout",
     "output_type": "stream",
     "text": [
      "Pakistan Zinda bad\n",
      "We are one nation\n",
      "We love our country\n",
      "Pakistan Zinda bad\n",
      "We are one nation\n",
      "We love our country\n",
      "Pakistan Zinda bad\n",
      "We are one nation\n",
      "We love our country\n",
      "Pakistan Zinda bad\n",
      "We are one nation\n",
      "We love our country\n"
     ]
    }
   ],
   "source": [
    "#Benifit of structural programming update esily\n",
    "def  my_fun(): #fun Declaration\n",
    "    #Function Body Start indentation block\n",
    "    print(\"Pakistan Zinda bad\")#statement 1\n",
    "    print(\"We are one nation\")#statement 2\n",
    "    print(\"We love our country\")#statement 3\n",
    "    #Bady End indentation block\n",
    "    \n",
    "my_fun()\n",
    "my_fun()\n",
    "my_fun()\n",
    "my_fun()"
   ]
  },
  {
   "cell_type": "code",
   "execution_count": 13,
   "metadata": {},
   "outputs": [
    {
     "name": "stdout",
     "output_type": "stream",
     "text": [
      "\n",
      "    PIAIC ISLAMABAD\n",
      "    STUDENT id: 1\n",
      "    Student Name: saif\n",
      "    Father name: Azeem\n",
      "    Course: A.I\n",
      "    Time:330 to 630\n",
      "    \n"
     ]
    }
   ],
   "source": [
    "#Required Arguments Functions\n",
    "\n",
    "def id_card (sid, sname, fname, courses, timining):\n",
    "    print(\n",
    "    f\"\"\"\n",
    "    PIAIC ISLAMABAD\n",
    "    STUDENT id: {sid}\n",
    "    Student Name: {sname}\n",
    "    Father name: {fname}\n",
    "    Course: {courses}\n",
    "    Time:{timining}\n",
    "    \"\"\"\n",
    "    \n",
    "    )\n",
    "    \n",
    "id_card(1,'saif', 'Azeem', 'A.I', '330 to 630')\n",
    "#above all argument are required if you missed any argument then fuction will give error."
   ]
  },
  {
   "cell_type": "code",
   "execution_count": 14,
   "metadata": {},
   "outputs": [
    {
     "name": "stdout",
     "output_type": "stream",
     "text": [
      "\n",
      "    PIAIC ISLAMABAD\n",
      "    STUDENT id: 1\n",
      "    Student Name: a\n",
      "    Father name: a\n",
      "    Course: b\n",
      "    Time:a\n",
      "    \n",
      "None\n",
      "\n",
      "    PIAIC ISLAMABAD\n",
      "    STUDENT id: 2\n",
      "    Student Name: 2\n",
      "    Father name: 2\n",
      "    Course: 2\n",
      "    Time:2\n",
      "    \n",
      "None\n",
      "\n",
      "    PIAIC ISLAMABAD\n",
      "    STUDENT id: 3\n",
      "    Student Name: 3\n",
      "    Father name: 3\n",
      "    Course: 3\n",
      "    Time:3\n",
      "    \n",
      "None\n"
     ]
    }
   ],
   "source": [
    "data =[[1,'a','a','b','a'],\n",
    "      [2,2,2,2,2],\n",
    "      [3,3,3,3,3]]\n",
    "\n",
    "for i in data:\n",
    "    print(id_card(*i))"
   ]
  },
  {
   "cell_type": "code",
   "execution_count": 15,
   "metadata": {},
   "outputs": [
    {
     "name": "stdout",
     "output_type": "stream",
     "text": [
      "5 9 3\n",
      "17\n"
     ]
    }
   ],
   "source": [
    "#Optional Argument or Default Argument\n",
    "\n",
    "def pl(x,y,z):\n",
    "    print(x,y,z)\n",
    "    print(x+y+z)\n",
    "    \n",
    "pl(5,9,3)"
   ]
  },
  {
   "cell_type": "code",
   "execution_count": 16,
   "metadata": {},
   "outputs": [
    {
     "ename": "TypeError",
     "evalue": "pl() missing 1 required positional argument: 'z'",
     "output_type": "error",
     "traceback": [
      "\u001b[1;31m---------------------------------------------------------------------------\u001b[0m",
      "\u001b[1;31mTypeError\u001b[0m                                 Traceback (most recent call last)",
      "\u001b[1;32m<ipython-input-16-902cd2365445>\u001b[0m in \u001b[0;36m<module>\u001b[1;34m\u001b[0m\n\u001b[0;32m      5\u001b[0m     \u001b[0mprint\u001b[0m\u001b[1;33m(\u001b[0m\u001b[0mx\u001b[0m\u001b[1;33m+\u001b[0m\u001b[0my\u001b[0m\u001b[1;33m+\u001b[0m\u001b[0mz\u001b[0m\u001b[1;33m)\u001b[0m\u001b[1;33m\u001b[0m\u001b[1;33m\u001b[0m\u001b[0m\n\u001b[0;32m      6\u001b[0m \u001b[1;33m\u001b[0m\u001b[0m\n\u001b[1;32m----> 7\u001b[1;33m \u001b[0mpl\u001b[0m\u001b[1;33m(\u001b[0m\u001b[1;36m5\u001b[0m\u001b[1;33m,\u001b[0m\u001b[1;36m9\u001b[0m\u001b[1;33m)\u001b[0m\u001b[1;33m\u001b[0m\u001b[1;33m\u001b[0m\u001b[0m\n\u001b[0m",
      "\u001b[1;31mTypeError\u001b[0m: pl() missing 1 required positional argument: 'z'"
     ]
    }
   ],
   "source": [
    "#Optional Argument or Default Argument\n",
    "#below is required\n",
    "\n",
    "def pl(x,y,z):\n",
    "    print(x,y,z)\n",
    "    print(x+y+z)\n",
    "    \n",
    "pl(5,9)"
   ]
  },
  {
   "cell_type": "code",
   "execution_count": 25,
   "metadata": {},
   "outputs": [
    {
     "name": "stdout",
     "output_type": "stream",
     "text": [
      "5 9 3\n",
      "17\n",
      "2 3 0\n",
      "5\n",
      "7 0 0\n",
      "7\n"
     ]
    }
   ],
   "source": [
    "#Optional Argument or Default Argument\n",
    "#Now its optional\n",
    "\n",
    "def pl(x,y=0,z=0):\n",
    "    print(x,y,z)\n",
    "    print(x+y+z)\n",
    "    \n",
    "pl(5,9,3)\n",
    "pl(2,3)\n",
    "pl(7)\n"
   ]
  },
  {
   "cell_type": "code",
   "execution_count": 23,
   "metadata": {},
   "outputs": [
    {
     "name": "stdout",
     "output_type": "stream",
     "text": [
      "2 9 0\n",
      "11\n"
     ]
    }
   ],
   "source": [
    "pl(2,9)"
   ]
  },
  {
   "cell_type": "code",
   "execution_count": 24,
   "metadata": {},
   "outputs": [
    {
     "ename": "TypeError",
     "evalue": "pl() missing 1 required positional argument: 'x'",
     "output_type": "error",
     "traceback": [
      "\u001b[1;31m---------------------------------------------------------------------------\u001b[0m",
      "\u001b[1;31mTypeError\u001b[0m                                 Traceback (most recent call last)",
      "\u001b[1;32m<ipython-input-24-891770326044>\u001b[0m in \u001b[0;36m<module>\u001b[1;34m\u001b[0m\n\u001b[1;32m----> 1\u001b[1;33m \u001b[0mpl\u001b[0m\u001b[1;33m(\u001b[0m\u001b[1;33m)\u001b[0m\u001b[1;33m\u001b[0m\u001b[1;33m\u001b[0m\u001b[0m\n\u001b[0m",
      "\u001b[1;31mTypeError\u001b[0m: pl() missing 1 required positional argument: 'x'"
     ]
    }
   ],
   "source": [
    "pl()"
   ]
  },
  {
   "cell_type": "code",
   "execution_count": 27,
   "metadata": {},
   "outputs": [
    {
     "name": "stdout",
     "output_type": "stream",
     "text": [
      "I m Saif\n",
      "None\n"
     ]
    }
   ],
   "source": [
    "#Return Function and Non Return functions\n",
    "\n",
    "a = print(\"I m Saif\") #Its non return fuction\n",
    "print(a)"
   ]
  },
  {
   "cell_type": "code",
   "execution_count": 28,
   "metadata": {},
   "outputs": [
    {
     "name": "stdout",
     "output_type": "stream",
     "text": [
      "5 9 3\n",
      "17\n",
      "None\n"
     ]
    }
   ],
   "source": [
    "def pl(x,y=0,z=0):\n",
    "    print(x,y,z)\n",
    "    print(x+y+z)\n",
    "    \n",
    "abb=pl(5,9,3) #its also non return fun\n",
    "print(abb)"
   ]
  },
  {
   "cell_type": "code",
   "execution_count": 31,
   "metadata": {},
   "outputs": [
    {
     "name": "stdout",
     "output_type": "stream",
     "text": [
      "17\n"
     ]
    }
   ],
   "source": [
    "#Making return Functions\n",
    "def pl(x,y,z):\n",
    "\n",
    "    return x+y+z\n",
    "    \n",
    "rslt=pl(5,9,3) #Now it is Return Function\n",
    "print(rslt)\n"
   ]
  },
  {
   "cell_type": "code",
   "execution_count": 32,
   "metadata": {},
   "outputs": [
    {
     "ename": "SyntaxError",
     "evalue": "invalid syntax (<ipython-input-32-8cd209aae7c3>, line 5)",
     "output_type": "error",
     "traceback": [
      "\u001b[1;36m  File \u001b[1;32m\"<ipython-input-32-8cd209aae7c3>\"\u001b[1;36m, line \u001b[1;32m5\u001b[0m\n\u001b[1;33m    return f\"\"\"\u001b[0m\n\u001b[1;37m         ^\u001b[0m\n\u001b[1;31mSyntaxError\u001b[0m\u001b[1;31m:\u001b[0m invalid syntax\n"
     ]
    }
   ],
   "source": [
    "#Required Arguments Functions\n",
    "\n",
    "def id_card (sid, sname, fname, courses, timining):\n",
    "    print(\n",
    "    return f\"\"\"\n",
    "    PIAIC ISLAMABAD\n",
    "    STUDENT id: {sid}\n",
    "    Student Name: {sname}\n",
    "    Father name: {fname}\n",
    "    Course: {courses}\n",
    "    Time:{timining}\n",
    "    \"\"\"\n",
    "    \n",
    "    )\n",
    "    \n",
    "asm=id_card(1,'saif', 'Azeem', 'A.I', '330 to 630')\n",
    "#above all argument are required if you missed any argument then fuction will give error."
   ]
  },
  {
   "cell_type": "code",
   "execution_count": 33,
   "metadata": {},
   "outputs": [
    {
     "data": {
      "text/plain": [
       "'A'"
      ]
     },
     "execution_count": 33,
     "metadata": {},
     "output_type": "execute_result"
    }
   ],
   "source": [
    "def a():\n",
    "    return \"A\" #It always return first line or first return statement.after that it comes out from function.\n",
    "    return \"B\"\n",
    "    return 'C'\n",
    "a()\n",
    "\n",
    "#Now question arise  waht if i want to return Muiltiple resluts from function."
   ]
  },
  {
   "cell_type": "code",
   "execution_count": 37,
   "metadata": {},
   "outputs": [
    {
     "data": {
      "text/plain": [
       "(16, 150)"
      ]
     },
     "execution_count": 37,
     "metadata": {},
     "output_type": "execute_result"
    }
   ],
   "source": [
    "#Now question arise  waht if i want to return Muiltiple resluts from function.\n",
    "#So for that\n",
    "def abm(x,y,z):\n",
    "    return x+y+z, x*y*z\n",
    "         \n",
    "abm(5,5,6)#Return tupple"
   ]
  },
  {
   "cell_type": "code",
   "execution_count": 39,
   "metadata": {},
   "outputs": [
    {
     "name": "stdout",
     "output_type": "stream",
     "text": [
      "\n",
      "    PIAIC ISLAMABAD\n",
      "    STUDENT id: 1\n",
      "    Student Name: saif\n",
      "    Father name: 9 t0 12\n",
      "    Course: A.I\n",
      "    Time:ali\n",
      "    \n"
     ]
    }
   ],
   "source": [
    "def id_card (sid, sname, fname, courses, timining):\n",
    "    print(\n",
    "    f\"\"\"\n",
    "    PIAIC ISLAMABAD\n",
    "    STUDENT id: {sid}\n",
    "    Student Name: {sname}\n",
    "    Father name: {fname}\n",
    "    Course: {courses}\n",
    "    Time:{timining}\n",
    "    \"\"\"\n",
    "    \n",
    "    )\n",
    "    \n",
    "#id_card(1,'saif', 'Azeem', 'A.I', '330 to 630')\n",
    "id_card(1,'saif', '9 t0 12', 'A.I', 'ali')\n",
    "#Positional problem comes here "
   ]
  },
  {
   "cell_type": "code",
   "execution_count": 43,
   "metadata": {},
   "outputs": [
    {
     "name": "stdout",
     "output_type": "stream",
     "text": [
      "\n",
      "    PIAIC ISLAMABAD\n",
      "    STUDENT id: 1\n",
      "    Student Name: saif\n",
      "    Father name: Azeem\n",
      "    Course: A.I\n",
      "    Time:330 to 630\n",
      "    \n"
     ]
    }
   ],
   "source": [
    "#Now how to Reslove position problem\n",
    "def id_card (sid, sname, fname, courses, timining):\n",
    "    print(\n",
    "    f\"\"\"\n",
    "    PIAIC ISLAMABAD\n",
    "    STUDENT id: {sid}\n",
    "    Student Name: {sname}\n",
    "    Father name: {fname}\n",
    "    Course: {courses}\n",
    "    Time:{timining}\n",
    "    \"\"\"\n",
    "    \n",
    "    )\n",
    "\n",
    "id_card(sid=1,courses='A.I', fname='Azeem', sname='saif', timining='330 to 630')"
   ]
  },
  {
   "cell_type": "code",
   "execution_count": null,
   "metadata": {},
   "outputs": [],
   "source": []
  }
 ],
 "metadata": {
  "kernelspec": {
   "display_name": "Python 3",
   "language": "python",
   "name": "python3"
  },
  "language_info": {
   "codemirror_mode": {
    "name": "ipython",
    "version": 3
   },
   "file_extension": ".py",
   "mimetype": "text/x-python",
   "name": "python",
   "nbconvert_exporter": "python",
   "pygments_lexer": "ipython3",
   "version": "3.7.1"
  }
 },
 "nbformat": 4,
 "nbformat_minor": 2
}
