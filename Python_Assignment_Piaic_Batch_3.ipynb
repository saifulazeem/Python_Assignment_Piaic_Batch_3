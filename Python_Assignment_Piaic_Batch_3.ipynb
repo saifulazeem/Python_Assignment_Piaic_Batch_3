{
 "cells": [
  {
   "cell_type": "markdown",
   "metadata": {},
   "source": [
    "# Assignment¶\n"
   ]
  },
  {
   "cell_type": "markdown",
   "metadata": {},
   "source": [
    "# -String data types all methods"
   ]
  },
  {
   "cell_type": "code",
   "execution_count": 1,
   "metadata": {},
   "outputs": [
    {
     "name": "stdout",
     "output_type": "stream",
     "text": [
      "My Name Is Saif\n"
     ]
    }
   ],
   "source": [
    "str1=\"my\"\n",
    "str2=\"name\"\n",
    "str3=\"is\"\n",
    "str4=\"muhammad\"\n",
    "str4=\"saif\"\n",
    "\n",
    "print(str1.capitalize()+\" \" +str2.capitalize()+\" \"+str3.capitalize()+\" \"+str4.capitalize())"
   ]
  },
  {
   "cell_type": "code",
   "execution_count": 2,
   "metadata": {},
   "outputs": [
    {
     "name": "stdout",
     "output_type": "stream",
     "text": [
      "hi i am student of piaic batch 3\n"
     ]
    }
   ],
   "source": [
    "msgs=\"Hi I Am Student of PIAIC Batch 3\"\n",
    "\n",
    "reslt = msgs.casefold()\n",
    "print(reslt)"
   ]
  },
  {
   "cell_type": "code",
   "execution_count": 3,
   "metadata": {},
   "outputs": [
    {
     "name": "stdout",
     "output_type": "stream",
     "text": [
      "----Pakistan---\n",
      "    Pakistan   \n"
     ]
    }
   ],
   "source": [
    "txt=\"Pakistan\"\n",
    "\n",
    "rslt = txt.center(15, \"-\")\n",
    "rslt2 = txt.center(15)\n",
    "\n",
    "print(rslt)\n",
    "print(rslt2)"
   ]
  },
  {
   "cell_type": "code",
   "execution_count": 4,
   "metadata": {},
   "outputs": [
    {
     "data": {
      "text/plain": [
       "2"
      ]
     },
     "execution_count": 4,
     "metadata": {},
     "output_type": "execute_result"
    }
   ],
   "source": [
    "txt1=[\"ali\", \"saif\", \"zain\", \"saif\"]\n",
    "\n",
    "txt1.count(txt1[3])  #tell us how many time the value repeat in list."
   ]
  },
  {
   "cell_type": "code",
   "execution_count": 5,
   "metadata": {},
   "outputs": [
    {
     "name": "stdout",
     "output_type": "stream",
     "text": [
      "b'My name is s\\xc3\\xa5if'\n"
     ]
    }
   ],
   "source": [
    "txt = \"My name is såif\"\n",
    "\n",
    "x = txt.encode()\n",
    "\n",
    "print(x)"
   ]
  },
  {
   "cell_type": "code",
   "execution_count": 6,
   "metadata": {},
   "outputs": [
    {
     "name": "stdout",
     "output_type": "stream",
     "text": [
      "True\n"
     ]
    }
   ],
   "source": [
    "msgs1 = \"Hello, welcome to my saifabbasi.\"\n",
    "\n",
    "x = msgs1.endswith(\".\")\n",
    "\n",
    "print(x)"
   ]
  },
  {
   "cell_type": "code",
   "execution_count": 7,
   "metadata": {},
   "outputs": [
    {
     "name": "stdout",
     "output_type": "stream",
     "text": [
      "P\ta\tk\ts\ts\tt\ta\tn\n",
      "P       a       k       s       s       t       a       n\n",
      "P a k s s t a n\n",
      "P   a   k   s   s   t   a   n\n",
      "P         a         k         s         s         t         a         n\n"
     ]
    }
   ],
   "source": [
    "txt = \"P\\ta\\tk\\ts\\ts\\tt\\ta\\tn\"\n",
    "\n",
    "print(txt)\n",
    "print(txt.expandtabs())\n",
    "print(txt.expandtabs(2))\n",
    "print(txt.expandtabs(4))\n",
    "print(txt.expandtabs(10))"
   ]
  },
  {
   "cell_type": "code",
   "execution_count": 8,
   "metadata": {},
   "outputs": [
    {
     "name": "stdout",
     "output_type": "stream",
     "text": [
      "7\n"
     ]
    }
   ],
   "source": [
    "txt = \"Hello, welcome to my world.\"\n",
    "\n",
    "x = txt.find(\"welcome\")\n",
    "\n",
    "print(x)"
   ]
  },
  {
   "cell_type": "code",
   "execution_count": 9,
   "metadata": {},
   "outputs": [
    {
     "name": "stdout",
     "output_type": "stream",
     "text": [
      "\n",
      "PIAIC ISLAMABAD\n",
      "Bahria University\n",
      "Name:M Azeem\n",
      "Father Name:Muhammad Saif ul Azeem Abbasi\n",
      "Fee :1000\n",
      "\n"
     ]
    }
   ],
   "source": [
    "student_name = \"Muhammad Saif ul Azeem Abbasi\"\n",
    "f_name = \"M Azeem\"\n",
    "fee=1000\n",
    "\n",
    "\n",
    "a=\"\"\"\n",
    "PIAIC ISLAMABAD\n",
    "Bahria University\n",
    "Name:{1}\n",
    "Father Name:{0}\n",
    "Fee :{2}\n",
    "\"\"\"\n",
    "print(a.format(student_name,f_name,fee))"
   ]
  },
  {
   "cell_type": "code",
   "execution_count": 10,
   "metadata": {},
   "outputs": [
    {
     "name": "stdout",
     "output_type": "stream",
     "text": [
      "ali asif\n",
      "asif ali\n"
     ]
    }
   ],
   "source": [
    "\n",
    "sett={'num':\"ali\", 'f_num':\"asif\"}\n",
    "\n",
    "\n",
    "print('{num} {f_num}'.format_map(sett))\n",
    "print('{f_num} {num}'.format_map(sett))"
   ]
  },
  {
   "cell_type": "code",
   "execution_count": 11,
   "metadata": {},
   "outputs": [
    {
     "data": {
      "text/plain": [
       "7"
      ]
     },
     "execution_count": 11,
     "metadata": {},
     "output_type": "execute_result"
    }
   ],
   "source": [
    "a = \"we are pakistani we love our country!!!\"\n",
    "a.index(\"pakistan\")"
   ]
  },
  {
   "cell_type": "code",
   "execution_count": 12,
   "metadata": {},
   "outputs": [
    {
     "name": "stdout",
     "output_type": "stream",
     "text": [
      "True\n",
      "False\n"
     ]
    }
   ],
   "source": [
    "strs = \"saif1996\"\n",
    "strss = \"saif 1996\"\n",
    "\n",
    "x = strs.isalnum()\n",
    "x1 = strss.isalnum()\n",
    "\n",
    "print(x)\n",
    "print(x1)"
   ]
  },
  {
   "cell_type": "code",
   "execution_count": 13,
   "metadata": {},
   "outputs": [
    {
     "name": "stdout",
     "output_type": "stream",
     "text": [
      "False\n",
      "False\n",
      "True\n"
     ]
    }
   ],
   "source": [
    "strs = \"saif1996\"\n",
    "strss = \"saif 1996\"\n",
    "sts = \"saif\"\n",
    "\n",
    "x = strs.isalpha()\n",
    "x1 = strss.isalpha()\n",
    "x2 = sts.isalpha()\n",
    "\n",
    "print(x)\n",
    "print(x1)\n",
    "print(x2)"
   ]
  },
  {
   "cell_type": "code",
   "execution_count": 14,
   "metadata": {},
   "outputs": [
    {
     "name": "stdout",
     "output_type": "stream",
     "text": [
      "False\n"
     ]
    }
   ],
   "source": [
    "strs = \"såif\"\n",
    "\n",
    "\n",
    "x = strs.isascii()\n",
    "\n",
    "\n",
    "print(x)"
   ]
  },
  {
   "cell_type": "code",
   "execution_count": 15,
   "metadata": {},
   "outputs": [
    {
     "name": "stdout",
     "output_type": "stream",
     "text": [
      "True\n",
      "False\n"
     ]
    }
   ],
   "source": [
    "a = \"\\u0030\" #unicode for 0\n",
    "b = \"\\u0047\" #unicode for G\n",
    "\n",
    "print(a.isdecimal())\n",
    "print(b.isdecimal())"
   ]
  },
  {
   "cell_type": "code",
   "execution_count": 16,
   "metadata": {},
   "outputs": [
    {
     "name": "stdout",
     "output_type": "stream",
     "text": [
      "True\n"
     ]
    }
   ],
   "source": [
    "dgt = \"11333\"\n",
    "\n",
    "rlt = dgt.isdigit()\n",
    "\n",
    "print(rlt)"
   ]
  },
  {
   "cell_type": "code",
   "execution_count": 17,
   "metadata": {},
   "outputs": [
    {
     "name": "stdout",
     "output_type": "stream",
     "text": [
      "True\n",
      "True\n",
      "False\n"
     ]
    }
   ],
   "source": [
    "txtss = \"pakistan\"\n",
    "txp = \"islamabad1960\"\n",
    "txs = \"islamabad 1960\"\n",
    "\n",
    "xyz = txtss.isidentifier()\n",
    "a = txp.isidentifier()\n",
    "b = txs.isidentifier()\n",
    "\n",
    "print(xyz)\n",
    "print(a)\n",
    "print(b)"
   ]
  },
  {
   "cell_type": "code",
   "execution_count": 18,
   "metadata": {},
   "outputs": [
    {
     "name": "stdout",
     "output_type": "stream",
     "text": [
      "True True False\n"
     ]
    }
   ],
   "source": [
    "txtbs = \"hello\"\n",
    "tp = \"i m saif\"\n",
    "tsb=\"i m Saif\"\n",
    "\n",
    "xsf = txtbs.islower()\n",
    "sd=tp.islower()\n",
    "sf=tsb.islower()\n",
    "\n",
    "print(xsf,sd,sf)"
   ]
  },
  {
   "cell_type": "code",
   "execution_count": 19,
   "metadata": {},
   "outputs": [
    {
     "name": "stdout",
     "output_type": "stream",
     "text": [
      "True False\n"
     ]
    }
   ],
   "source": [
    "txt = \"565543\"\n",
    "ad=\"12334f\"\n",
    "\n",
    "x = txt.isnumeric()\n",
    "y=ad.isnumeric()\n",
    "\n",
    "print(x,y)"
   ]
  },
  {
   "cell_type": "code",
   "execution_count": 20,
   "metadata": {},
   "outputs": [
    {
     "name": "stdout",
     "output_type": "stream",
     "text": [
      "False\n",
      "True\n"
     ]
    }
   ],
   "source": [
    "txt1 = \"Hello!\\nAre you #1?\"\n",
    "txt2 = \"hi how are u\"\n",
    "\n",
    "x = txt1.isprintable()\n",
    "y = txt2.isprintable()\n",
    "\n",
    "print(x)\n",
    "print(y)"
   ]
  },
  {
   "cell_type": "code",
   "execution_count": 21,
   "metadata": {},
   "outputs": [
    {
     "name": "stdout",
     "output_type": "stream",
     "text": [
      "False\n",
      "True\n"
     ]
    }
   ],
   "source": [
    "txt34 = \"   saif   \"\n",
    "tvs=\"     \"\n",
    "\n",
    "x = txt34.isspace()\n",
    "y = tvs.isspace()\n",
    "\n",
    "print(x)\n",
    "print(y)"
   ]
  },
  {
   "cell_type": "code",
   "execution_count": 22,
   "metadata": {},
   "outputs": [
    {
     "name": "stdout",
     "output_type": "stream",
     "text": [
      "True\n",
      "False\n",
      "False\n"
     ]
    }
   ],
   "source": [
    "strrs = \"Hello, And Welcome To Piaic!\"\n",
    "strrs1 = \"Hello, And Welcome To PIAIC!\"\n",
    "strrs2 = \"Hello, And Welcome to Piaic!\"\n",
    "\n",
    "x = strrs.istitle()\n",
    "x1 = strrs1.istitle()\n",
    "x2 = strrs2.istitle()\n",
    "\n",
    "print(x)\n",
    "print(x1)\n",
    "print(x2)"
   ]
  },
  {
   "cell_type": "code",
   "execution_count": 23,
   "metadata": {},
   "outputs": [
    {
     "name": "stdout",
     "output_type": "stream",
     "text": [
      "False False True\n"
     ]
    }
   ],
   "source": [
    "txtbs1 = \"hello\"\n",
    "tp1 = \"i m Saif\"\n",
    "tsb1=\"I M SAIF\"\n",
    "\n",
    "xsf1 = txtbs1.isupper()\n",
    "sd1=tp1.isupper()\n",
    "sf1=tsb1.isupper()\n",
    "\n",
    "print(xsf1,sd1,sf1)"
   ]
  },
  {
   "cell_type": "code",
   "execution_count": 24,
   "metadata": {},
   "outputs": [
    {
     "name": "stdout",
     "output_type": "stream",
     "text": [
      "['MUhaMmaD', 'sAiF']\n"
     ]
    },
    {
     "data": {
      "text/plain": [
       "'MUhaMmaD sAiF'"
      ]
     },
     "execution_count": 24,
     "metadata": {},
     "output_type": "execute_result"
    }
   ],
   "source": [
    "a = \"     MUhaMmaD     sAiF   \"\n",
    "b = a.split() #make the list\n",
    "print(b)\n",
    "\" \".join(b)"
   ]
  },
  {
   "cell_type": "code",
   "execution_count": 25,
   "metadata": {},
   "outputs": [
    {
     "name": "stdout",
     "output_type": "stream",
     "text": [
      "MUHAMMD SAIF UL AZEEM ABBAIS\n",
      "Muhammd Saif ul azeem abbais\n"
     ]
    }
   ],
   "source": [
    "a = \"Muhammd Saif ul azeem abbais\"\n",
    "print(a.upper()) ##Inline Operation\n",
    "print(a)"
   ]
  },
  {
   "cell_type": "code",
   "execution_count": 26,
   "metadata": {},
   "outputs": [
    {
     "name": "stdout",
     "output_type": "stream",
     "text": [
      "muhammad saif ul azeem abbasi\n"
     ]
    }
   ],
   "source": [
    "a = \"MUHAMMAD SAIF UL AZEEM ABBASI\"\n",
    "a = a.lower() ##InMemory Operation\n",
    "print(a)"
   ]
  },
  {
   "cell_type": "code",
   "execution_count": 27,
   "metadata": {},
   "outputs": [
    {
     "name": "stdout",
     "output_type": "stream",
     "text": [
      "25\n",
      "     MUhaMmaD     sAiF\n",
      "MUhaMmaD     sAiF   \n",
      "     MUhaMmaD     sAiF   \n"
     ]
    }
   ],
   "source": [
    "a = \"     MUhaMmaD     sAiF   \"\n",
    "print(len(a))\n",
    "print(a.rstrip())\n",
    "print(a.lstrip())\n",
    "print(a)"
   ]
  },
  {
   "cell_type": "code",
   "execution_count": 28,
   "metadata": {},
   "outputs": [
    {
     "data": {
      "text/plain": [
       "['MUhaMmaD', 'sAiF']"
      ]
     },
     "execution_count": 28,
     "metadata": {},
     "output_type": "execute_result"
    }
   ],
   "source": [
    "a = \"     MUhaMmaD     sAiF   \"\n",
    "b = a.split() #make the list\n",
    "b"
   ]
  },
  {
   "cell_type": "code",
   "execution_count": 29,
   "metadata": {},
   "outputs": [
    {
     "name": "stdout",
     "output_type": "stream",
     "text": [
      "Nationality:         I m Proud Pakistani.\n"
     ]
    }
   ],
   "source": [
    "xt = \"Nationality:\"\n",
    "\n",
    "x = xt.ljust(20)\n",
    "\n",
    "print(x, \"I m Proud Pakistani.\")"
   ]
  },
  {
   "cell_type": "markdown",
   "metadata": {},
   "source": [
    "#Apply random operation on oprands"
   ]
  },
  {
   "cell_type": "code",
   "execution_count": 30,
   "metadata": {},
   "outputs": [
    {
     "data": {
      "text/plain": [
       "'11'"
      ]
     },
     "execution_count": 30,
     "metadata": {},
     "output_type": "execute_result"
    }
   ],
   "source": [
    "\"1\" + '1'"
   ]
  },
  {
   "cell_type": "code",
   "execution_count": 31,
   "metadata": {},
   "outputs": [
    {
     "data": {
      "text/plain": [
       "2"
      ]
     },
     "execution_count": 31,
     "metadata": {},
     "output_type": "execute_result"
    }
   ],
   "source": [
    "int(\"1\") + int('1')"
   ]
  },
  {
   "cell_type": "code",
   "execution_count": 32,
   "metadata": {},
   "outputs": [
    {
     "data": {
      "text/plain": [
       "'18'"
      ]
     },
     "execution_count": 32,
     "metadata": {},
     "output_type": "execute_result"
    }
   ],
   "source": [
    "str(int(\"1\")) + \"8\""
   ]
  },
  {
   "cell_type": "code",
   "execution_count": 33,
   "metadata": {},
   "outputs": [
    {
     "data": {
      "text/plain": [
       "9"
      ]
     },
     "execution_count": 33,
     "metadata": {},
     "output_type": "execute_result"
    }
   ],
   "source": [
    "int(\"1\") + int(\"8\")"
   ]
  },
  {
   "cell_type": "code",
   "execution_count": 34,
   "metadata": {},
   "outputs": [
    {
     "data": {
      "text/plain": [
       "'88'"
      ]
     },
     "execution_count": 34,
     "metadata": {},
     "output_type": "execute_result"
    }
   ],
   "source": [
    "\"8\" * 2 #How many time multiply given String"
   ]
  },
  {
   "cell_type": "code",
   "execution_count": 35,
   "metadata": {},
   "outputs": [
    {
     "data": {
      "text/plain": [
       "4"
      ]
     },
     "execution_count": 35,
     "metadata": {},
     "output_type": "execute_result"
    }
   ],
   "source": [
    "2*2 #Simple Multiply"
   ]
  },
  {
   "cell_type": "code",
   "execution_count": 36,
   "metadata": {},
   "outputs": [
    {
     "data": {
      "text/plain": [
       "'pakpak'"
      ]
     },
     "execution_count": 36,
     "metadata": {},
     "output_type": "execute_result"
    }
   ],
   "source": [
    "\"pak\" * 2 #how many time multiplyb string"
   ]
  },
  {
   "cell_type": "code",
   "execution_count": 37,
   "metadata": {},
   "outputs": [
    {
     "data": {
      "text/plain": [
       "56.0"
      ]
     },
     "execution_count": 37,
     "metadata": {},
     "output_type": "execute_result"
    }
   ],
   "source": [
    "8 * 7 + 9 / 2 ** 20 // 2"
   ]
  },
  {
   "cell_type": "code",
   "execution_count": 38,
   "metadata": {},
   "outputs": [
    {
     "data": {
      "text/plain": [
       "56.0"
      ]
     },
     "execution_count": 38,
     "metadata": {},
     "output_type": "execute_result"
    }
   ],
   "source": [
    "8 * \\\n",
    "7 + \\\n",
    "9 / \\\n",
    "2 ** \\\n",
    "20 // \\\n",
    "2"
   ]
  },
  {
   "cell_type": "code",
   "execution_count": 39,
   "metadata": {},
   "outputs": [
    {
     "name": "stdout",
     "output_type": "stream",
     "text": [
      "3\n"
     ]
    }
   ],
   "source": [
    "a =11//3 #float Division\n",
    "print(a)"
   ]
  },
  {
   "cell_type": "code",
   "execution_count": 40,
   "metadata": {},
   "outputs": [
    {
     "name": "stdout",
     "output_type": "stream",
     "text": [
      "1.0\n",
      "<class 'float'>\n"
     ]
    }
   ],
   "source": [
    "a = 8/8\n",
    "print(a)\n",
    "print(type(a))"
   ]
  },
  {
   "cell_type": "code",
   "execution_count": 41,
   "metadata": {},
   "outputs": [
    {
     "data": {
      "text/plain": [
       "41.0"
      ]
     },
     "execution_count": 41,
     "metadata": {},
     "output_type": "execute_result"
    }
   ],
   "source": [
    "9 + 8 * 2 / 2**2 + (7-3) * 7"
   ]
  }
 ],
 "metadata": {
  "kernelspec": {
   "display_name": "Python 3",
   "language": "python",
   "name": "python3"
  },
  "language_info": {
   "codemirror_mode": {
    "name": "ipython",
    "version": 3
   },
   "file_extension": ".py",
   "mimetype": "text/x-python",
   "name": "python",
   "nbconvert_exporter": "python",
   "pygments_lexer": "ipython3",
   "version": "3.7.1"
  }
 },
 "nbformat": 4,
 "nbformat_minor": 2
}
