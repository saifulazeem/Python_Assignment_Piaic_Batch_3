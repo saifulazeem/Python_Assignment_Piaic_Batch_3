{
 "cells": [
  {
   "cell_type": "code",
   "execution_count": 1,
   "metadata": {},
   "outputs": [],
   "source": [
    "#Getter Setter to deal with private attribute.\n",
    "#To deal with privte attributes with in class that canot be acessed in outside the calss.\n",
    "#In real world if their is no object exist for any class the we call that class as abstract class.\n",
    "#Animal class ---> child classes e.g have some herarihy ---> like human class ---> men Class, women Class."
   ]
  },
  {
   "cell_type": "code",
   "execution_count": 2,
   "metadata": {},
   "outputs": [],
   "source": [
    "#Exception handling---> Food restrication in class if someone dont obey the rule and eating food teacher will through him out of the \n",
    "#class this is exception handling. if we dont handle exception then our program will crash."
   ]
  },
  {
   "cell_type": "code",
   "execution_count": 3,
   "metadata": {},
   "outputs": [],
   "source": [
    "#Encapsolation any method or attribute can be converted in to private by using __ underscor 2 time before its name.\n",
    "class A():\n",
    "    def __init__ (self, name, age):\n",
    "        self.__sname = name # sname is private attribute\n",
    "        self.__age = age #.__age is private attribute\n",
    "s1 = A(\"Ali\", 12)"
   ]
  },
  {
   "cell_type": "code",
   "execution_count": 4,
   "metadata": {},
   "outputs": [
    {
     "ename": "AttributeError",
     "evalue": "'A' object has no attribute 'sname'",
     "output_type": "error",
     "traceback": [
      "\u001b[1;31m---------------------------------------------------------------------------\u001b[0m",
      "\u001b[1;31mAttributeError\u001b[0m                            Traceback (most recent call last)",
      "\u001b[1;32m<ipython-input-4-a371708e03a9>\u001b[0m in \u001b[0;36m<module>\u001b[1;34m\u001b[0m\n\u001b[1;32m----> 1\u001b[1;33m \u001b[0ms1\u001b[0m\u001b[1;33m.\u001b[0m\u001b[0msname\u001b[0m\u001b[1;33m\u001b[0m\u001b[1;33m\u001b[0m\u001b[0m\n\u001b[0m",
      "\u001b[1;31mAttributeError\u001b[0m: 'A' object has no attribute 'sname'"
     ]
    }
   ],
   "source": [
    "s1.sname #Error bcoz of private attribue"
   ]
  },
  {
   "cell_type": "code",
   "execution_count": 5,
   "metadata": {},
   "outputs": [
    {
     "ename": "AttributeError",
     "evalue": "'A' object has no attribute '__sname'",
     "output_type": "error",
     "traceback": [
      "\u001b[1;31m---------------------------------------------------------------------------\u001b[0m",
      "\u001b[1;31mAttributeError\u001b[0m                            Traceback (most recent call last)",
      "\u001b[1;32m<ipython-input-5-da836c9b7551>\u001b[0m in \u001b[0;36m<module>\u001b[1;34m\u001b[0m\n\u001b[1;32m----> 1\u001b[1;33m \u001b[0ms1\u001b[0m\u001b[1;33m.\u001b[0m\u001b[0m__sname\u001b[0m \u001b[1;31m#Same above error\u001b[0m\u001b[1;33m\u001b[0m\u001b[1;33m\u001b[0m\u001b[0m\n\u001b[0m",
      "\u001b[1;31mAttributeError\u001b[0m: 'A' object has no attribute '__sname'"
     ]
    }
   ],
   "source": [
    "s1.__sname #Same above error"
   ]
  },
  {
   "cell_type": "code",
   "execution_count": 6,
   "metadata": {},
   "outputs": [
    {
     "data": {
      "text/plain": [
       "'Ali'"
      ]
     },
     "execution_count": 6,
     "metadata": {},
     "output_type": "execute_result"
    }
   ],
   "source": [
    "#I can acesss private attribute through class reference in python. but not with obhect reference\n",
    "\n",
    "s1._A__sname"
   ]
  },
  {
   "cell_type": "code",
   "execution_count": 7,
   "metadata": {},
   "outputs": [],
   "source": [
    "#Example of private function Log details e.g login logout etc ip address etc."
   ]
  },
  {
   "cell_type": "code",
   "execution_count": 10,
   "metadata": {},
   "outputs": [
    {
     "name": "stdout",
     "output_type": "stream",
     "text": [
      "Name: Ali\n",
      "Age: 12\n",
      "This is private function or method\n"
     ]
    }
   ],
   "source": [
    "#Encapsolation Example\n",
    "class A():\n",
    "    def __init__ (self, name, age):\n",
    "        self.__sname = name # sname is private attribute\n",
    "        self.__age = age #.__age is private attribute\n",
    "    def dis(self):  #Getter\n",
    "        print(\"Name:\", self.__sname)\n",
    "        print(\"Age:\", self.__age)\n",
    "        self.__info() #Calling private method with in class\n",
    "        \n",
    "    def change(self, a, b): #Setter\n",
    "        self.__sname = a\n",
    "        self.__age = b\n",
    "        \n",
    "    def __info(self): #This is private function\n",
    "        print(\"This is private function or method\")\n",
    "s1 = A(\"Ali\", 12)\n",
    "#s1.sname\n",
    "#s1.info error\n",
    "#s1.__info error\n",
    "s1.dis()"
   ]
  },
  {
   "cell_type": "code",
   "execution_count": 9,
   "metadata": {},
   "outputs": [
    {
     "name": "stdout",
     "output_type": "stream",
     "text": [
      "Name: Asif\n",
      "Age: 30\n"
     ]
    }
   ],
   "source": [
    "s1.change(\"Asif\", 30)\n",
    "\n",
    "s1.dis()"
   ]
  },
  {
   "cell_type": "code",
   "execution_count": 11,
   "metadata": {},
   "outputs": [
    {
     "name": "stdout",
     "output_type": "stream",
     "text": [
      "Asif\n",
      "hamza\n"
     ]
    }
   ],
   "source": [
    "#Abstract Class\n",
    "\n",
    "#No dirct instance or object we make instance of its chlid.\n",
    "#No instance concept in oop\n",
    "# in python 2.7\n",
    "class A:\n",
    "    def __init__(self,name,age):\n",
    "        self.name = name\n",
    "        self.age = age\n",
    "        \n",
    "class B(A):\n",
    "    pass\n",
    "\n",
    "obj1 = A('Asif', 13)\n",
    "obj2 = B(\"hamza\",37)\n",
    "\n",
    "print(obj1.name)\n",
    "print(obj2.name)  #Inheritance"
   ]
  },
  {
   "cell_type": "code",
   "execution_count": null,
   "metadata": {},
   "outputs": [],
   "source": [
    "#file or package"
   ]
  },
  {
   "cell_type": "code",
   "execution_count": 14,
   "metadata": {},
   "outputs": [],
   "source": [
    "import abcd"
   ]
  },
  {
   "cell_type": "code",
   "execution_count": 17,
   "metadata": {},
   "outputs": [
    {
     "data": {
      "text/plain": [
       "'saif'"
      ]
     },
     "execution_count": 17,
     "metadata": {},
     "output_type": "execute_result"
    }
   ],
   "source": [
    "s1 =abcd.A(\"saif\",24)\n",
    "s1._A__sname"
   ]
  },
  {
   "cell_type": "code",
   "execution_count": 19,
   "metadata": {},
   "outputs": [
    {
     "data": {
      "text/plain": [
       "'Hassan'"
      ]
     },
     "execution_count": 19,
     "metadata": {},
     "output_type": "execute_result"
    }
   ],
   "source": [
    "from abcd import A\n",
    "\n",
    "s2 = A(\"Hassan\",32)\n",
    "s2._A__sname"
   ]
  },
  {
   "cell_type": "code",
   "execution_count": 20,
   "metadata": {},
   "outputs": [
    {
     "ename": "NameError",
     "evalue": "name 'ABC' is not defined",
     "output_type": "error",
     "traceback": [
      "\u001b[1;31m---------------------------------------------------------------------------\u001b[0m",
      "\u001b[1;31mNameError\u001b[0m                                 Traceback (most recent call last)",
      "\u001b[1;32m<ipython-input-20-d67871685f38>\u001b[0m in \u001b[0;36m<module>\u001b[1;34m\u001b[0m\n\u001b[1;32m----> 1\u001b[1;33m \u001b[1;32mclass\u001b[0m \u001b[0mHuman\u001b[0m\u001b[1;33m(\u001b[0m\u001b[0mABC\u001b[0m\u001b[1;33m)\u001b[0m\u001b[1;33m:\u001b[0m \u001b[1;31m#Abstract Class\u001b[0m\u001b[1;33m\u001b[0m\u001b[1;33m\u001b[0m\u001b[0m\n\u001b[0m\u001b[0;32m      2\u001b[0m     \u001b[1;33m@\u001b[0m\u001b[0mabstractmethod\u001b[0m\u001b[1;33m\u001b[0m\u001b[1;33m\u001b[0m\u001b[0m\n\u001b[0;32m      3\u001b[0m     \u001b[1;32mdef\u001b[0m \u001b[0m__init__\u001b[0m\u001b[1;33m(\u001b[0m\u001b[0mself\u001b[0m\u001b[1;33m,\u001b[0m\u001b[0mname\u001b[0m\u001b[1;33m,\u001b[0m\u001b[0mage\u001b[0m\u001b[1;33m)\u001b[0m\u001b[1;33m:\u001b[0m\u001b[1;33m\u001b[0m\u001b[1;33m\u001b[0m\u001b[0m\n\u001b[0;32m      4\u001b[0m         \u001b[0mself\u001b[0m\u001b[1;33m.\u001b[0m\u001b[0mname\u001b[0m \u001b[1;33m=\u001b[0m \u001b[0mname\u001b[0m\u001b[1;33m\u001b[0m\u001b[1;33m\u001b[0m\u001b[0m\n\u001b[0;32m      5\u001b[0m         \u001b[0mself\u001b[0m\u001b[1;33m.\u001b[0m\u001b[0mage\u001b[0m \u001b[1;33m=\u001b[0m \u001b[0mage\u001b[0m\u001b[1;33m\u001b[0m\u001b[1;33m\u001b[0m\u001b[0m\n",
      "\u001b[1;31mNameError\u001b[0m: name 'ABC' is not defined"
     ]
    }
   ],
   "source": [
    "class Human(ABC): #Abstract Class\n",
    "    @abstractmethod\n",
    "    def __init__(self,name,age):\n",
    "        self.name = name\n",
    "        self.age = age\n",
    "        \n",
    "class Male(Human): #Child Class\n",
    "    def __init__(self,name,age):\n",
    "        self.name = name\n",
    "        self.age = age\n",
    "p = Human(\"Ali\", 20)"
   ]
  },
  {
   "cell_type": "code",
   "execution_count": 25,
   "metadata": {},
   "outputs": [
    {
     "name": "stdout",
     "output_type": "stream",
     "text": [
      "Saif Azeem\n",
      "11222\n",
      "7th\n",
      "Husnain\n",
      "11333\n",
      "5th\n"
     ]
    }
   ],
   "source": [
    "class student():\n",
    "    def __init__(attr,name,roll,semester):\n",
    "        attr.name = name\n",
    "        attr.roll = roll\n",
    "        attr.semester = semester\n",
    "\n",
    "class admin(student):\n",
    "    pass\n",
    "\n",
    "obj_stud = student(\"Saif Azeem\",11222,\"7th\")\n",
    "obj_admin = admin(\"Husnain\",11333,\"5th\")\n",
    "\n",
    "print(obj_stud.name)\n",
    "print(obj_stud.roll)\n",
    "print(obj_stud.semester)\n",
    "print(obj_admin.name)\n",
    "print(obj_admin.roll)\n",
    "print(obj_admin.semester)"
   ]
  },
  {
   "cell_type": "code",
   "execution_count": 28,
   "metadata": {},
   "outputs": [
    {
     "name": "stdout",
     "output_type": "stream",
     "text": [
      "110\n",
      "34\n"
     ]
    }
   ],
   "source": [
    "#Overloading\n",
    "\n",
    "class acf():\n",
    "    def __init__(atrs,a,b,c,d):\n",
    "        atrs.a=a\n",
    "        atrs.b=b\n",
    "        atrs.c=c\n",
    "        atrs.d=d\n",
    "    def sum1(atrs,*n):\n",
    "        print(sum(n))\n",
    "        \n",
    "obj=acf(11,11,22,33)\n",
    "obj.sum1(11,22,33,44)\n",
    "obj.sum1(12,22)\n",
    "\n",
    "    "
   ]
  },
  {
   "cell_type": "code",
   "execution_count": null,
   "metadata": {},
   "outputs": [],
   "source": [
    "#Exception Handling\n",
    "\n",
    "print(\"Line 1\")\n",
    "print(\"Line 2\")\n",
    "print(7/2)\n",
    "print(\"Line 3\")\n",
    "print(\"Line 4\")\n",
    "print(\"Line 5\")\n",
    "print(\"Line 6\")"
   ]
  },
  {
   "cell_type": "raw",
   "metadata": {},
   "source": [
    "#Exception Handiling block\n",
    "\n",
    "try:\n",
    "    you code\n",
    "except (ErrClass1, ErrClass2,...):\n",
    "    execute code if error generated\n",
    "else:\n",
    "    execute code if error not generated\n",
    "finally:\n",
    "    always run this block"
   ]
  },
  {
   "cell_type": "code",
   "execution_count": 29,
   "metadata": {},
   "outputs": [
    {
     "name": "stdout",
     "output_type": "stream",
     "text": [
      "File is no Available\n"
     ]
    }
   ],
   "source": [
    "# try we write code that we want to check for execpton\n",
    "try: \n",
    "    open(\"abcd.txt\")\n",
    "except FileNotFoundError:\n",
    "    print(\"File is no Available\")"
   ]
  },
  {
   "cell_type": "code",
   "execution_count": 31,
   "metadata": {},
   "outputs": [
    {
     "name": "stdout",
     "output_type": "stream",
     "text": [
      "Index is not Availabale\n"
     ]
    }
   ],
   "source": [
    "try:\n",
    "    a = ['a','b','c']\n",
    "    print(a[4])\n",
    "except IndexError:\n",
    "    print(\"Index is not Availabale\")"
   ]
  },
  {
   "cell_type": "code",
   "execution_count": 33,
   "metadata": {},
   "outputs": [
    {
     "name": "stdout",
     "output_type": "stream",
     "text": [
      "Index is not Availabale\n"
     ]
    }
   ],
   "source": [
    "try:\n",
    "    a = ['a','b','c']\n",
    "    print(a[4])\n",
    "except IndexError:\n",
    "    print(\"Index is not Availabale\")"
   ]
  },
  {
   "cell_type": "code",
   "execution_count": 34,
   "metadata": {},
   "outputs": [
    {
     "name": "stdout",
     "output_type": "stream",
     "text": [
      "Try to Solve this proble\n"
     ]
    }
   ],
   "source": [
    "try:\n",
    "    a = ['a','b','c']\n",
    "    print(a[4])\n",
    "    open('abc.txt')\n",
    "    print(7/0)\n",
    "except (IndexError,FileNotFoundError, ZeroDivisionError):\n",
    "    print(\"Try to Solve this proble\")"
   ]
  },
  {
   "cell_type": "code",
   "execution_count": 35,
   "metadata": {},
   "outputs": [
    {
     "name": "stdout",
     "output_type": "stream",
     "text": [
      "Index not found\n",
      "File is not Available\n",
      "Zero Division Error\n"
     ]
    }
   ],
   "source": [
    "try:\n",
    "    a = ['a','b','c']\n",
    "    print(a[4])\n",
    "    #open('abc.txt')\n",
    "    #print(7/0)\n",
    "except IndexError:\n",
    "    print(\"Index not found\")\n",
    "    \n",
    "try:\n",
    "    #a = ['a','b','c']\n",
    "    #print(a[4])\n",
    "    open('abc.txt')\n",
    "    #print(7/0)\n",
    "except FileNotFoundError:\n",
    "    print(\"File is not Available\")\n",
    "    \n",
    "    \n",
    "try:\n",
    "   # a = ['a','b','c']\n",
    "   # print(a[4])\n",
    "   # open('abc.txt')\n",
    "    print(7/0)\n",
    "except ZeroDivisionError:\n",
    "    print(\"Zero Division Error\")"
   ]
  },
  {
   "cell_type": "code",
   "execution_count": 38,
   "metadata": {},
   "outputs": [
    {
     "name": "stdout",
     "output_type": "stream",
     "text": [
      "Try to Solve this prob\n"
     ]
    }
   ],
   "source": [
    "try:\n",
    "    #open(\"abc.txt\")\n",
    "    7/0\n",
    "except:\n",
    "    print(\"Try to Solve this prob\")"
   ]
  },
  {
   "cell_type": "code",
   "execution_count": 40,
   "metadata": {},
   "outputs": [
    {
     "name": "stdout",
     "output_type": "stream",
     "text": [
      "Problem: [Errno 2] No such file or directory: 'abc.txt'\n"
     ]
    }
   ],
   "source": [
    "\n",
    "#Handle Error dynamically by using allies\n",
    "try:\n",
    "    #7/0\n",
    "    open(\"abc.txt\")\n",
    "\n",
    "except Exception as e:\n",
    "    print(\"Problem:\",e)"
   ]
  },
  {
   "cell_type": "code",
   "execution_count": 43,
   "metadata": {},
   "outputs": [],
   "source": [
    "#Raise key word is used to generate error at any time any place.\n",
    "\n",
    "class Student():\n",
    "    def __init__ (self,age,name):\n",
    "        if age<18 or age>60:\n",
    "            raise Exception(\"Age should be in 19 to 60\")\n",
    "        self.age=age\n",
    "        self.name=name\n",
    "            \n",
    "s3 = Student(20,\"Ali\")"
   ]
  },
  {
   "cell_type": "code",
   "execution_count": 44,
   "metadata": {},
   "outputs": [
    {
     "ename": "Exception",
     "evalue": "Age should be in 19 to 60",
     "output_type": "error",
     "traceback": [
      "\u001b[1;31m---------------------------------------------------------------------------\u001b[0m",
      "\u001b[1;31mException\u001b[0m                                 Traceback (most recent call last)",
      "\u001b[1;32m<ipython-input-44-22bf0ea47eef>\u001b[0m in \u001b[0;36m<module>\u001b[1;34m\u001b[0m\n\u001b[1;32m----> 1\u001b[1;33m \u001b[0ms4\u001b[0m \u001b[1;33m=\u001b[0m \u001b[0mStudent\u001b[0m\u001b[1;33m(\u001b[0m\u001b[1;36m89\u001b[0m\u001b[1;33m,\u001b[0m\u001b[1;34m\"saidj\"\u001b[0m\u001b[1;33m)\u001b[0m\u001b[1;33m\u001b[0m\u001b[1;33m\u001b[0m\u001b[0m\n\u001b[0m",
      "\u001b[1;32m<ipython-input-43-374e06f1abd5>\u001b[0m in \u001b[0;36m__init__\u001b[1;34m(self, age, name)\u001b[0m\n\u001b[0;32m      4\u001b[0m     \u001b[1;32mdef\u001b[0m \u001b[0m__init__\u001b[0m \u001b[1;33m(\u001b[0m\u001b[0mself\u001b[0m\u001b[1;33m,\u001b[0m\u001b[0mage\u001b[0m\u001b[1;33m,\u001b[0m\u001b[0mname\u001b[0m\u001b[1;33m)\u001b[0m\u001b[1;33m:\u001b[0m\u001b[1;33m\u001b[0m\u001b[1;33m\u001b[0m\u001b[0m\n\u001b[0;32m      5\u001b[0m         \u001b[1;32mif\u001b[0m \u001b[0mage\u001b[0m\u001b[1;33m<\u001b[0m\u001b[1;36m18\u001b[0m \u001b[1;32mor\u001b[0m \u001b[0mage\u001b[0m\u001b[1;33m>\u001b[0m\u001b[1;36m60\u001b[0m\u001b[1;33m:\u001b[0m\u001b[1;33m\u001b[0m\u001b[1;33m\u001b[0m\u001b[0m\n\u001b[1;32m----> 6\u001b[1;33m             \u001b[1;32mraise\u001b[0m \u001b[0mException\u001b[0m\u001b[1;33m(\u001b[0m\u001b[1;34m\"Age should be in 19 to 60\"\u001b[0m\u001b[1;33m)\u001b[0m\u001b[1;33m\u001b[0m\u001b[1;33m\u001b[0m\u001b[0m\n\u001b[0m\u001b[0;32m      7\u001b[0m         \u001b[0mself\u001b[0m\u001b[1;33m.\u001b[0m\u001b[0mage\u001b[0m\u001b[1;33m=\u001b[0m\u001b[0mage\u001b[0m\u001b[1;33m\u001b[0m\u001b[1;33m\u001b[0m\u001b[0m\n\u001b[0;32m      8\u001b[0m         \u001b[0mself\u001b[0m\u001b[1;33m.\u001b[0m\u001b[0mname\u001b[0m\u001b[1;33m=\u001b[0m\u001b[0mname\u001b[0m\u001b[1;33m\u001b[0m\u001b[1;33m\u001b[0m\u001b[0m\n",
      "\u001b[1;31mException\u001b[0m: Age should be in 19 to 60"
     ]
    }
   ],
   "source": [
    "s4 = Student(89,\"saidj\")"
   ]
  },
  {
   "cell_type": "code",
   "execution_count": 46,
   "metadata": {},
   "outputs": [
    {
     "ename": "StudentAgeError",
     "evalue": "Age should be in 19 to 60",
     "output_type": "error",
     "traceback": [
      "\u001b[1;31m---------------------------------------------------------------------------\u001b[0m",
      "\u001b[1;31mStudentAgeError\u001b[0m                           Traceback (most recent call last)",
      "\u001b[1;32m<ipython-input-46-095e22dda34f>\u001b[0m in \u001b[0;36m<module>\u001b[1;34m\u001b[0m\n\u001b[0;32m     10\u001b[0m     \u001b[1;32mpass\u001b[0m\u001b[1;33m\u001b[0m\u001b[1;33m\u001b[0m\u001b[0m\n\u001b[0;32m     11\u001b[0m \u001b[1;33m\u001b[0m\u001b[0m\n\u001b[1;32m---> 12\u001b[1;33m \u001b[0ms3\u001b[0m \u001b[1;33m=\u001b[0m \u001b[0mStudent\u001b[0m\u001b[1;33m(\u001b[0m\u001b[1;36m8490\u001b[0m\u001b[1;33m,\u001b[0m\u001b[1;34m\"Ali\"\u001b[0m\u001b[1;33m)\u001b[0m\u001b[1;33m\u001b[0m\u001b[1;33m\u001b[0m\u001b[0m\n\u001b[0m",
      "\u001b[1;32m<ipython-input-46-095e22dda34f>\u001b[0m in \u001b[0;36m__init__\u001b[1;34m(self, age, name)\u001b[0m\n\u001b[0;32m      4\u001b[0m     \u001b[1;32mdef\u001b[0m \u001b[0m__init__\u001b[0m \u001b[1;33m(\u001b[0m\u001b[0mself\u001b[0m\u001b[1;33m,\u001b[0m\u001b[0mage\u001b[0m\u001b[1;33m,\u001b[0m\u001b[0mname\u001b[0m\u001b[1;33m)\u001b[0m\u001b[1;33m:\u001b[0m\u001b[1;33m\u001b[0m\u001b[1;33m\u001b[0m\u001b[0m\n\u001b[0;32m      5\u001b[0m         \u001b[1;32mif\u001b[0m \u001b[0mage\u001b[0m\u001b[1;33m<\u001b[0m\u001b[1;36m18\u001b[0m \u001b[1;32mor\u001b[0m \u001b[0mage\u001b[0m\u001b[1;33m>\u001b[0m\u001b[1;36m60\u001b[0m\u001b[1;33m:\u001b[0m\u001b[1;33m\u001b[0m\u001b[1;33m\u001b[0m\u001b[0m\n\u001b[1;32m----> 6\u001b[1;33m             \u001b[1;32mraise\u001b[0m \u001b[0mStudentAgeError\u001b[0m\u001b[1;33m(\u001b[0m\u001b[1;34m\"Age should be in 19 to 60\"\u001b[0m\u001b[1;33m)\u001b[0m\u001b[1;33m\u001b[0m\u001b[1;33m\u001b[0m\u001b[0m\n\u001b[0m\u001b[0;32m      7\u001b[0m         \u001b[0mself\u001b[0m\u001b[1;33m.\u001b[0m\u001b[0mage\u001b[0m\u001b[1;33m=\u001b[0m\u001b[0mage\u001b[0m\u001b[1;33m\u001b[0m\u001b[1;33m\u001b[0m\u001b[0m\n\u001b[0;32m      8\u001b[0m         \u001b[0mself\u001b[0m\u001b[1;33m.\u001b[0m\u001b[0mname\u001b[0m\u001b[1;33m=\u001b[0m\u001b[0mname\u001b[0m\u001b[1;33m\u001b[0m\u001b[1;33m\u001b[0m\u001b[0m\n",
      "\u001b[1;31mStudentAgeError\u001b[0m: Age should be in 19 to 60"
     ]
    }
   ],
   "source": [
    "#Raise key word is used to generate error at any time any place.\n",
    "#We can make error according to our own desire or wish.\n",
    "\n",
    "class Student():\n",
    "    def __init__ (self,age,name):\n",
    "        if age<18 or age>60:\n",
    "            raise StudentAgeError(\"Age should be in 19 to 60\")\n",
    "        self.age=age\n",
    "        self.name=name\n",
    "class StudentAgeError(Exception):\n",
    "    pass\n",
    "            \n",
    "s3 = Student(8490,\"Ali\")"
   ]
  },
  {
   "cell_type": "code",
   "execution_count": 53,
   "metadata": {},
   "outputs": [],
   "source": [
    "class Student():\n",
    "    def __init__ (self,marks,name):\n",
    "        if marks<50 and marks>100:\n",
    "            raise StudentMarksError(\"YOU Are Fail or Enter wrong marks\")\n",
    "        self.marks=marks\n",
    "        self.name=name\n",
    "class StudentMarksError(Exception):\n",
    "    pass\n",
    "            \n",
    "s45 = Student(40,\"Ali\")"
   ]
  },
  {
   "cell_type": "code",
   "execution_count": null,
   "metadata": {},
   "outputs": [],
   "source": []
  }
 ],
 "metadata": {
  "kernelspec": {
   "display_name": "Python 3",
   "language": "python",
   "name": "python3"
  },
  "language_info": {
   "codemirror_mode": {
    "name": "ipython",
    "version": 3
   },
   "file_extension": ".py",
   "mimetype": "text/x-python",
   "name": "python",
   "nbconvert_exporter": "python",
   "pygments_lexer": "ipython3",
   "version": "3.7.4"
  }
 },
 "nbformat": 4,
 "nbformat_minor": 2
}
