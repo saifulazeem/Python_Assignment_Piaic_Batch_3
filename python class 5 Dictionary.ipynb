{
 "cells": [
  {
   "cell_type": "code",
   "execution_count": null,
   "metadata": {},
   "outputs": [],
   "source": [
    "#String tupple  list Dictnionary all are itteratable data types"
   ]
  },
  {
   "cell_type": "code",
   "execution_count": 1,
   "metadata": {},
   "outputs": [
    {
     "data": {
      "text/plain": [
       "[20, 'saif', 'A.I']"
      ]
     },
     "execution_count": 1,
     "metadata": {},
     "output_type": "execute_result"
    }
   ],
   "source": [
    "#index 0   1      2\n",
    "l1 = [20,\"saif\",\"A.I\"]\n",
    "#index -3   -2    -1\n",
    "\n",
    "#list[element1,element2,...]\n",
    "#List[index]\n",
    "l1"
   ]
  },
  {
   "cell_type": "code",
   "execution_count": null,
   "metadata": {},
   "outputs": [],
   "source": [
    "#we are replaving index with key in Dictionaary .\n",
    "#Dictionaary"
   ]
  },
  {
   "cell_type": "code",
   "execution_count": null,
   "metadata": {},
   "outputs": [],
   "source": [
    "#key:value = item\n",
    "#{key1:value1,\n",
    "#key2:value2,...}\n",
    "\n",
    "#dict[key]"
   ]
  },
  {
   "cell_type": "code",
   "execution_count": 2,
   "metadata": {},
   "outputs": [
    {
     "data": {
      "text/plain": [
       "{'id': 20, 'name': 'saif', 'course': 'A.I'}"
      ]
     },
     "execution_count": 2,
     "metadata": {},
     "output_type": "execute_result"
    }
   ],
   "source": [
    "{'id':20,'name':\"saif\",\n",
    "'course':\"A.I\"}"
   ]
  },
  {
   "cell_type": "code",
   "execution_count": 3,
   "metadata": {},
   "outputs": [
    {
     "data": {
      "text/plain": [
       "{'id': 20, 'name': 'saif', 'course': 'A.I'}"
      ]
     },
     "execution_count": 3,
     "metadata": {},
     "output_type": "execute_result"
    }
   ],
   "source": [
    "d1 = {'id':20,'name':\"saif\",\n",
    "'course':\"A.I\"}\n",
    "d1"
   ]
  },
  {
   "cell_type": "code",
   "execution_count": 5,
   "metadata": {},
   "outputs": [
    {
     "data": {
      "text/plain": [
       "{'id': 200, 'name': 'Ali', 'course': 'A.I'}"
      ]
     },
     "execution_count": 5,
     "metadata": {},
     "output_type": "execute_result"
    }
   ],
   "source": [
    "d1 = {} #Empty Dictionary\n",
    "\n",
    "d1[\"id\"] = 200\n",
    "d1[\"name\"] = \"Ali\"\n",
    "d1[\"course\"] = \"A.I\"\n",
    "d1"
   ]
  },
  {
   "cell_type": "code",
   "execution_count": 6,
   "metadata": {},
   "outputs": [
    {
     "name": "stdout",
     "output_type": "stream",
     "text": [
      "{'id': 200, 'name': 'Ali', 'course': 'A.I'}\n",
      "{}\n"
     ]
    }
   ],
   "source": [
    "#Predefined Methods of Dicitionary\n",
    "\n",
    "d1 = {'id': 200, 'name': 'Ali', 'course': 'A.I'}\n",
    "\n",
    "print(d1)\n",
    "d1.clear() #In Memory , Convert into Empty dictionary\n",
    "print(d1)"
   ]
  },
  {
   "cell_type": "code",
   "execution_count": 7,
   "metadata": {},
   "outputs": [
    {
     "name": "stdout",
     "output_type": "stream",
     "text": [
      "{'id': 200, 'name': 'Ali', 'course': 'A.I'}\n"
     ]
    },
    {
     "ename": "NameError",
     "evalue": "name 'd1' is not defined",
     "output_type": "error",
     "traceback": [
      "\u001b[1;31m---------------------------------------------------------------------------\u001b[0m",
      "\u001b[1;31mNameError\u001b[0m                                 Traceback (most recent call last)",
      "\u001b[1;32m<ipython-input-7-a0cf9d76ce85>\u001b[0m in \u001b[0;36m<module>\u001b[1;34m\u001b[0m\n\u001b[0;32m      3\u001b[0m \u001b[0mprint\u001b[0m\u001b[1;33m(\u001b[0m\u001b[0md1\u001b[0m\u001b[1;33m)\u001b[0m\u001b[1;33m\u001b[0m\u001b[1;33m\u001b[0m\u001b[0m\n\u001b[0;32m      4\u001b[0m \u001b[1;32mdel\u001b[0m \u001b[0md1\u001b[0m\u001b[1;33m\u001b[0m\u001b[1;33m\u001b[0m\u001b[0m\n\u001b[1;32m----> 5\u001b[1;33m \u001b[0mprint\u001b[0m\u001b[1;33m(\u001b[0m\u001b[0md1\u001b[0m\u001b[1;33m)\u001b[0m\u001b[1;33m\u001b[0m\u001b[1;33m\u001b[0m\u001b[0m\n\u001b[0m",
      "\u001b[1;31mNameError\u001b[0m: name 'd1' is not defined"
     ]
    }
   ],
   "source": [
    "d1 = {'id': 200, 'name': 'Ali', 'course': 'A.I'}\n",
    "\n",
    "print(d1)\n",
    "del d1 \n",
    "print(d1)"
   ]
  },
  {
   "cell_type": "code",
   "execution_count": 8,
   "metadata": {},
   "outputs": [
    {
     "name": "stdout",
     "output_type": "stream",
     "text": [
      "{'id': 200, 'name': 'Ali', 'course': 'A.I'}\n",
      "{'id': 500, 'name': 'Ali', 'course': 'A.I'}\n",
      "{'id': 200, 'name': 'Ali', 'course': 'A.I'}\n"
     ]
    }
   ],
   "source": [
    "d1 = {'id': 200, 'name': 'Ali', 'course': 'A.I'}\n",
    "\n",
    "print(d1)\n",
    "d2 = d1.copy()\n",
    "d1['id'] = 500\n",
    "print(d1)\n",
    "print(d2)"
   ]
  },
  {
   "cell_type": "code",
   "execution_count": 9,
   "metadata": {},
   "outputs": [
    {
     "name": "stdout",
     "output_type": "stream",
     "text": [
      "{'name': None, 'course': None, 'timing': None, 'address': None}\n"
     ]
    }
   ],
   "source": [
    "#Making dictionary keys through list\n",
    "l1 = ['name', 'course','timing','address']\n",
    "\n",
    "d1 = dict.fromkeys(l1)\n",
    "print(d1)"
   ]
  },
  {
   "cell_type": "code",
   "execution_count": 10,
   "metadata": {},
   "outputs": [
    {
     "name": "stdout",
     "output_type": "stream",
     "text": [
      "{'name': 'nothing', 'course': 'nothing', 'timing': 'nothing', 'address': 'nothing'}\n"
     ]
    }
   ],
   "source": [
    "l1 = ['name', 'course','timing','address']\n",
    "\n",
    "d1 = dict.fromkeys(l1,\"nothing\")\n",
    "print(d1)"
   ]
  },
  {
   "cell_type": "code",
   "execution_count": 31,
   "metadata": {},
   "outputs": [
    {
     "name": "stdout",
     "output_type": "stream",
     "text": [
      "Enter Keysa,b,c,d\n",
      "Enter Values1,2,3,4\n",
      "['a', 'b', 'c', 'd']\n",
      "['1', '2', '3', '4']\n"
     ]
    },
    {
     "ename": "TypeError",
     "evalue": "list indices must be integers or slices, not str",
     "output_type": "error",
     "traceback": [
      "\u001b[1;31m---------------------------------------------------------------------------\u001b[0m",
      "\u001b[1;31mTypeError\u001b[0m                                 Traceback (most recent call last)",
      "\u001b[1;32m<ipython-input-31-5138ffb3428d>\u001b[0m in \u001b[0;36m<module>\u001b[1;34m\u001b[0m\n\u001b[0;32m      9\u001b[0m \u001b[1;33m\u001b[0m\u001b[0m\n\u001b[0;32m     10\u001b[0m \u001b[1;32mfor\u001b[0m \u001b[0mi\u001b[0m \u001b[1;32min\u001b[0m \u001b[0my\u001b[0m\u001b[1;33m:\u001b[0m\u001b[1;33m\u001b[0m\u001b[1;33m\u001b[0m\u001b[0m\n\u001b[1;32m---> 11\u001b[1;33m     \u001b[0md1\u001b[0m \u001b[1;33m=\u001b[0m \u001b[0mdict\u001b[0m\u001b[1;33m.\u001b[0m\u001b[0mfromkeys\u001b[0m\u001b[1;33m(\u001b[0m\u001b[0mx\u001b[0m\u001b[1;33m,\u001b[0m\u001b[0my\u001b[0m\u001b[1;33m[\u001b[0m\u001b[0mi\u001b[0m\u001b[1;33m]\u001b[0m\u001b[1;33m)\u001b[0m\u001b[1;33m\u001b[0m\u001b[1;33m\u001b[0m\u001b[0m\n\u001b[0m\u001b[0;32m     12\u001b[0m \u001b[1;33m\u001b[0m\u001b[0m\n\u001b[0;32m     13\u001b[0m \u001b[1;33m\u001b[0m\u001b[0m\n",
      "\u001b[1;31mTypeError\u001b[0m: list indices must be integers or slices, not str"
     ]
    }
   ],
   "source": [
    "u_input = str(input(\"Enter Keys\"))\n",
    "u_value = str(input(\"Enter Values\"))\n",
    "\n",
    "y = u_value.split(\",\")\n",
    "\n",
    "x = u_input.split(\",\")\n",
    "print(x)\n",
    "print(y)\n",
    "\n",
    "\n",
    "    \n",
    "d1 = dict.fromkeys(x,y[i])\n",
    "\n",
    "\n",
    "\n",
    "print(d1)\n"
   ]
  },
  {
   "cell_type": "code",
   "execution_count": 22,
   "metadata": {},
   "outputs": [
    {
     "name": "stdout",
     "output_type": "stream",
     "text": [
      "Enter Keysa,b,c,d,e\n"
     ]
    },
    {
     "data": {
      "text/plain": [
       "{'a': None, 'b': None, 'c': None, 'd': None, 'e': None}"
      ]
     },
     "execution_count": 22,
     "metadata": {},
     "output_type": "execute_result"
    }
   ],
   "source": [
    "a = input(\"Enter Keys\").split(\",\")\n",
    "dict.fromkeys(a)"
   ]
  },
  {
   "cell_type": "code",
   "execution_count": 32,
   "metadata": {},
   "outputs": [
    {
     "name": "stdout",
     "output_type": "stream",
     "text": [
      "Enter Keysa,b,c,d\n",
      "Enter Values1,2,34,4\n",
      "['a', 'b', 'c', 'd']\n",
      "['1', '2', '34', '4']\n"
     ]
    },
    {
     "data": {
      "text/plain": [
       "[('a', '1'), ('b', '2'), ('c', '34'), ('d', '4')]"
      ]
     },
     "execution_count": 32,
     "metadata": {},
     "output_type": "execute_result"
    }
   ],
   "source": [
    "u_input = str(input(\"Enter Keys\"))\n",
    "u_value = str(input(\"Enter Values\"))\n",
    "\n",
    "y = u_value.split(\",\")\n",
    "\n",
    "x = u_input.split(\",\")\n",
    "print(x)\n",
    "print(y)\n",
    "\n",
    "list(zip(x,y))\n",
    "    "
   ]
  },
  {
   "cell_type": "code",
   "execution_count": 33,
   "metadata": {},
   "outputs": [
    {
     "name": "stdout",
     "output_type": "stream",
     "text": [
      "Enter Keysa,b,c,d\n",
      "Enter Values1,2,3,4\n",
      "['a', 'b', 'c', 'd']\n",
      "['1', '2', '3', '4']\n"
     ]
    },
    {
     "data": {
      "text/plain": [
       "{'a': '1', 'b': '2', 'c': '3', 'd': '4'}"
      ]
     },
     "execution_count": 33,
     "metadata": {},
     "output_type": "execute_result"
    }
   ],
   "source": [
    "u_input = str(input(\"Enter Keys\"))\n",
    "u_value = str(input(\"Enter Values\"))\n",
    "\n",
    "y = u_value.split(\",\")\n",
    "\n",
    "x = u_input.split(\",\")\n",
    "print(x)\n",
    "print(y)\n",
    "\n",
    "c = zip(x,y)\n",
    "d1 = dict(c)\n",
    "d1\n"
   ]
  },
  {
   "cell_type": "code",
   "execution_count": 35,
   "metadata": {},
   "outputs": [
    {
     "name": "stdout",
     "output_type": "stream",
     "text": [
      "Enter id111\n",
      "Enter namesaif\n",
      "Enter SkillsAI\n",
      "['111']\n",
      "['saif']\n"
     ]
    },
    {
     "ename": "ValueError",
     "evalue": "dictionary update sequence element #0 has length 3; 2 is required",
     "output_type": "error",
     "traceback": [
      "\u001b[1;31m---------------------------------------------------------------------------\u001b[0m",
      "\u001b[1;31mValueError\u001b[0m                                Traceback (most recent call last)",
      "\u001b[1;32m<ipython-input-35-e33443af1365>\u001b[0m in \u001b[0;36m<module>\u001b[1;34m\u001b[0m\n\u001b[0;32m     10\u001b[0m \u001b[1;33m\u001b[0m\u001b[0m\n\u001b[0;32m     11\u001b[0m \u001b[0mc\u001b[0m \u001b[1;33m=\u001b[0m \u001b[0mzip\u001b[0m\u001b[1;33m(\u001b[0m\u001b[0mx\u001b[0m\u001b[1;33m,\u001b[0m\u001b[0my\u001b[0m\u001b[1;33m,\u001b[0m\u001b[0mu_skill\u001b[0m\u001b[1;33m)\u001b[0m\u001b[1;33m\u001b[0m\u001b[1;33m\u001b[0m\u001b[0m\n\u001b[1;32m---> 12\u001b[1;33m \u001b[0md1\u001b[0m \u001b[1;33m=\u001b[0m \u001b[0mdict\u001b[0m\u001b[1;33m(\u001b[0m\u001b[0mc\u001b[0m\u001b[1;33m)\u001b[0m\u001b[1;33m\u001b[0m\u001b[1;33m\u001b[0m\u001b[0m\n\u001b[0m\u001b[0;32m     13\u001b[0m \u001b[0md1\u001b[0m\u001b[1;33m\u001b[0m\u001b[1;33m\u001b[0m\u001b[0m\n",
      "\u001b[1;31mValueError\u001b[0m: dictionary update sequence element #0 has length 3; 2 is required"
     ]
    }
   ],
   "source": [
    "u_input = str(input(\"Enter id\"))\n",
    "u_value = str(input(\"Enter name\"))\n",
    "#u_skill = input(\"Enter Skills\").split(\",\")\n",
    "\n",
    "y = u_value.split(\",\")\n",
    "\n",
    "x = u_input.split(\",\")\n",
    "print(x)\n",
    "print(y)\n",
    "\n",
    "c = zip(x,y)\n",
    "d1 = dict(c)\n",
    "d1"
   ]
  },
  {
   "cell_type": "markdown",
   "metadata": {},
   "source": [
    "{\n",
    "    id:2\n",
    "    name:djnjd\n",
    "    skills:jndjn\n",
    "}"
   ]
  },
  {
   "cell_type": "code",
   "execution_count": 38,
   "metadata": {},
   "outputs": [
    {
     "name": "stdout",
     "output_type": "stream",
     "text": [
      "ida\n",
      "Nameassaif\n",
      "Skillsc++,jave<puthon\n"
     ]
    },
    {
     "data": {
      "text/plain": [
       "{'id': 'a', 'name': 'saif', 'skills': ['c++', 'jave<puthon']}"
      ]
     },
     "execution_count": 38,
     "metadata": {},
     "output_type": "execute_result"
    }
   ],
   "source": [
    "d1 = {\n",
    "    \"id\": input(\"id\"),\n",
    "    \"name\":input(\"Nameas\"),\n",
    "    \n",
    "    \"skills\": input(\"Skills\").split(\",\")\n",
    "}\n",
    "\n",
    "d1"
   ]
  },
  {
   "cell_type": "code",
   "execution_count": 39,
   "metadata": {},
   "outputs": [
    {
     "data": {
      "text/plain": [
       "'saif'"
      ]
     },
     "execution_count": 39,
     "metadata": {},
     "output_type": "execute_result"
    }
   ],
   "source": [
    "d1 = {'id': 'a', 'name': 'saif', 'skills': ['c++', 'jave<puthon']}\n",
    "d1.get('name')"
   ]
  },
  {
   "cell_type": "code",
   "execution_count": 40,
   "metadata": {},
   "outputs": [
    {
     "data": {
      "text/plain": [
       "'a'"
      ]
     },
     "execution_count": 40,
     "metadata": {},
     "output_type": "execute_result"
    }
   ],
   "source": [
    "d1 = {'id': 'a', 'name': 'saif', 'skills': ['c++', 'jave<puthon']}\n",
    "d1.get('id')"
   ]
  },
  {
   "cell_type": "code",
   "execution_count": 42,
   "metadata": {},
   "outputs": [
    {
     "data": {
      "text/plain": [
       "'Not In Dictionat'"
      ]
     },
     "execution_count": 42,
     "metadata": {},
     "output_type": "execute_result"
    }
   ],
   "source": [
    "d1 = {'id': 'a', 'name': 'saif', 'skills': ['c++', 'jave<puthon']}\n",
    "d1.get('CNIC',\"Not In Dictionat\") #we get value agains key through get #no effect on real data"
   ]
  },
  {
   "cell_type": "code",
   "execution_count": 49,
   "metadata": {},
   "outputs": [
    {
     "name": "stdout",
     "output_type": "stream",
     "text": [
      "{'id': 'a', 'name': 'saif', 'skills': ['c++', 'jave<puthon']}\n",
      "[('id', 'a'), ('name', 'saif'), ('skills', ['c++', 'jave<puthon'])]\n",
      "['id', 'name', 'skills']\n",
      "['a', 'saif', ['c++', 'jave<puthon']]\n"
     ]
    }
   ],
   "source": [
    "d1 = {'id': 'a', 'name': 'saif', 'skills': ['c++', 'jave<puthon']}\n",
    "d1.get('CNIC',\"Not Available\")\n",
    "print(d1)\n",
    "print(list(d1.items()))\n",
    "print(list(d1.keys()))\n",
    "print(list(d1.values()))"
   ]
  },
  {
   "cell_type": "code",
   "execution_count": 54,
   "metadata": {},
   "outputs": [
    {
     "name": "stdout",
     "output_type": "stream",
     "text": [
      "{'name': 'saif', 'skills': ['c++', 'jave<puthon']}\n",
      "{'name': 'saif'}\n"
     ]
    }
   ],
   "source": [
    "print(d1)\n",
    "d1.pop(\"skills\") #Return fuction so we can assignt its value to any variable and just return value not koy\n",
    "print(d1)"
   ]
  },
  {
   "cell_type": "code",
   "execution_count": 55,
   "metadata": {},
   "outputs": [
    {
     "name": "stdout",
     "output_type": "stream",
     "text": [
      "{'name': 'saif'}\n",
      "('name', 'saif')\n",
      "{}\n"
     ]
    }
   ],
   "source": [
    "print(d1)\n",
    "print(d1.popitem()) #popitem also shows key with value\n",
    "print(d1)"
   ]
  },
  {
   "cell_type": "code",
   "execution_count": 65,
   "metadata": {},
   "outputs": [
    {
     "name": "stdout",
     "output_type": "stream",
     "text": [
      "{'id': 'a', 'name': 'saif', 'skills': ['c++', 'jave<puthon']}\n",
      "{'id': 'a', 'name': 'saif', 'skills': ['c++', 'jave<puthon'], 'CNiC': 'jjdhhjkdhj'}\n"
     ]
    }
   ],
   "source": [
    "d1 = {'id': 'a', 'name': 'saif', 'skills': ['c++', 'jave<puthon']}\n",
    "print(d1)\n",
    "\n",
    "d1.setdefault(\"CNiC\",\"jjdhhjkdhj\")  #we serach key if key found and show value if key is not present it will make key and assign value null by default\n",
    "print(d1)\n"
   ]
  },
  {
   "cell_type": "code",
   "execution_count": 66,
   "metadata": {},
   "outputs": [
    {
     "name": "stdout",
     "output_type": "stream",
     "text": [
      "{'a': 123, 'b': 300, 'c': 100, 'x': 300}\n"
     ]
    }
   ],
   "source": [
    "dict1 = {'a':1, 'b':2, 'c':100}\n",
    "dict2 = {\"x\":300, 'b':300, 'a':123}\n",
    "\n",
    "dict1.update(dict2)\n",
    "print(dict1)\n"
   ]
  },
  {
   "cell_type": "code",
   "execution_count": 68,
   "metadata": {},
   "outputs": [
    {
     "data": {
      "text/plain": [
       "{'a': 200, 'c': 300, 'b': 500, 'd': 550}"
      ]
     },
     "execution_count": 68,
     "metadata": {},
     "output_type": "execute_result"
    }
   ],
   "source": [
    "d1 = {\n",
    "    'a':200,\n",
    "    'c':300,\n",
    "    'b':500,\n",
    "    'd':550\n",
    "    \n",
    "}\n",
    "d1"
   ]
  },
  {
   "cell_type": "code",
   "execution_count": 76,
   "metadata": {},
   "outputs": [
    {
     "name": "stdout",
     "output_type": "stream",
     "text": [
      "{'a': 200, 'c': 300, 'b': 500, 'd': 550}\n",
      "('a', 200) ('b', 500) ('c', 300) ('d', 550) "
     ]
    }
   ],
   "source": [
    "print(d1)\n",
    "for i in sorted (d1) : \n",
    "    print ((i, d1[i]), end =\" \")"
   ]
  },
  {
   "cell_type": "code",
   "execution_count": 77,
   "metadata": {},
   "outputs": [
    {
     "data": {
      "text/plain": [
       "{'a': 200, 'c': 300, 'b': 500, 'd': 550}"
      ]
     },
     "execution_count": 77,
     "metadata": {},
     "output_type": "execute_result"
    }
   ],
   "source": [
    "d2 = {\n",
    "    'a':200,\n",
    "    'c':300,\n",
    "    'b':500,\n",
    "    'd':550\n",
    "    \n",
    "}\n",
    "d2"
   ]
  },
  {
   "cell_type": "code",
   "execution_count": 81,
   "metadata": {},
   "outputs": [
    {
     "data": {
      "text/plain": [
       "['d', 'c', 'b', 'a']"
      ]
     },
     "execution_count": 81,
     "metadata": {},
     "output_type": "execute_result"
    }
   ],
   "source": [
    "def abc (x):\n",
    "    return x[-1]\n",
    "sorted(d2, key=abc, reverse=True)"
   ]
  },
  {
   "cell_type": "code",
   "execution_count": 83,
   "metadata": {},
   "outputs": [
    {
     "data": {
      "text/plain": [
       "[('C', 'x', 100), ('B', 'y', 50), ('A', 'z', 20)]"
      ]
     },
     "execution_count": 83,
     "metadata": {},
     "output_type": "execute_result"
    }
   ],
   "source": [
    "a=[(\"A\",'z',20),\n",
    "  (\"C\",'x',100),\n",
    "  (\"B\",'y',50)]\n",
    "sorted(a,key=lambda x:x[-1], reverse=True)"
   ]
  },
  {
   "cell_type": "code",
   "execution_count": null,
   "metadata": {},
   "outputs": [],
   "source": [
    "input(\"enter ID\")\n",
    "input(\"enter name\")\n",
    "\n",
    "[\n",
    "    {id:2, name:aa,skills:[1,2,'c']},\n",
    "    {id:2, name:aa,skills:[1,2,'c']},\n",
    "    {id:2, name:aa,skills:[1,2,'c']},\n",
    "]"
   ]
  }
 ],
 "metadata": {
  "kernelspec": {
   "display_name": "Python 3",
   "language": "python",
   "name": "python3"
  },
  "language_info": {
   "codemirror_mode": {
    "name": "ipython",
    "version": 3
   },
   "file_extension": ".py",
   "mimetype": "text/x-python",
   "name": "python",
   "nbconvert_exporter": "python",
   "pygments_lexer": "ipython3",
   "version": "3.7.1"
  }
 },
 "nbformat": 4,
 "nbformat_minor": 2
}
